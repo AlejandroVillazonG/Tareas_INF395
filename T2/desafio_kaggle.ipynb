{
  "cells": [
    {
      "cell_type": "markdown",
      "metadata": {
        "id": "view-in-github",
        "colab_type": "text"
      },
      "source": [
        "<a href=\"https://colab.research.google.com/github/AlejandroVillazonG/Tareas_INF395/blob/main/T2/desafio_kaggle.ipynb\" target=\"_parent\"><img src=\"https://colab.research.google.com/assets/colab-badge.svg\" alt=\"Open In Colab\"/></a>"
      ]
    },
    {
      "cell_type": "markdown",
      "metadata": {
        "id": "y7m720kEWTx_"
      },
      "source": [
        "<center><img src=\"https://www.inf.utfsm.cl/images/slides/Departamento-de-Informtica_HORIZONTAL.png\" title=\"Title text\" width= 800 /></center>\n",
        "<hr style=\"height:2px;border:none\"/>\n",
        "<H1 align='center'> DESAFÍO TAREA 2</H1>\n",
        "\n",
        "<H3 align='center'> INF395 2023-2 </H3>\n",
        "<hr style=\"height:2px;border:none\"/>\n",
        "\n",
        "## Integrantes:\n",
        "* Joaquín Aguirre (201910031-9)\n",
        "* Alejandro Villazón (201910009-2)\n",
        "* Dominique Yessouroun (201910005-K)"
      ]
    },
    {
      "cell_type": "markdown",
      "metadata": {
        "id": "NvdBh0hkWTyO"
      },
      "source": [
        "Importamos las librerías necesarias:"
      ]
    },
    {
      "cell_type": "code",
      "execution_count": 1,
      "metadata": {
        "id": "WSGUBsGfWTyP"
      },
      "outputs": [],
      "source": [
        "import numpy as np\n",
        "import pandas as pd\n",
        "import seaborn as sns\n",
        "import matplotlib.pyplot as plt\n",
        "\n",
        "from sklearn.model_selection import train_test_split\n",
        "from sklearn.feature_selection import mutual_info_classif\n",
        "\n",
        "import os\n",
        "import json\n",
        "from sklearn.preprocessing import StandardScaler\n",
        "\n",
        "import tensorflow as tf\n",
        "from tensorflow import keras\n",
        "from tensorflow.keras import layers\n",
        "from tensorflow.keras.applications import ResNet50\n",
        "\n",
        "import multiprocessing\n",
        "\n",
        "import warnings\n",
        "# Ignorar las advertencias\n",
        "warnings.filterwarnings(\"ignore\")"
      ]
    },
    {
      "cell_type": "code",
      "source": [
        "from google.colab import drive\n",
        "drive.mount('/content/drive')"
      ],
      "metadata": {
        "colab": {
          "base_uri": "https://localhost:8080/"
        },
        "id": "2M2A0Nv4WlFv",
        "outputId": "df4337be-9ef0-4448-84c8-efeaed982511"
      },
      "execution_count": 2,
      "outputs": [
        {
          "output_type": "stream",
          "name": "stdout",
          "text": [
            "Mounted at /content/drive\n"
          ]
        }
      ]
    },
    {
      "cell_type": "code",
      "execution_count": 3,
      "metadata": {
        "id": "dHG0rtlsWTyW"
      },
      "outputs": [],
      "source": [
        "path = '/content/drive/MyDrive/10sem 2023-2/INF395/T2/Kaggle/'"
      ]
    },
    {
      "cell_type": "markdown",
      "source": [
        "## Preprocesar imágenes"
      ],
      "metadata": {
        "id": "bbKmwOCq_JpD"
      }
    },
    {
      "cell_type": "code",
      "source": [
        "!unzip '{path}inf-395-tarea-2.zip'"
      ],
      "metadata": {
        "id": "zt_ZZPNcZL38"
      },
      "execution_count": null,
      "outputs": []
    },
    {
      "cell_type": "code",
      "source": [
        "main_path = '/content/'\n",
        "\n",
        "# with open(main_path + \"hierarchy_dict.json\", \"r\") as archivo:\n",
        "    # subclases = json.load(archivo)\n",
        "\n",
        "# with open(main_path + \"food_categories_dict.json\", \"r\") as archivo:\n",
        "    # superclases = json.load(archivo)\n",
        "\n",
        "# df_train = pd.read_csv(main_path+'train.csv')\n",
        "# df_test = pd.read_csv(main_path+'test.csv')"
      ],
      "metadata": {
        "id": "1O7Z94t3bYFZ"
      },
      "execution_count": null,
      "outputs": []
    },
    {
      "cell_type": "code",
      "execution_count": null,
      "metadata": {
        "id": "LprUi1fgWTyZ"
      },
      "outputs": [],
      "source": [
        "def preprocess_image(main_path, path_image, image_size):\n",
        "    image = keras.utils.load_img(main_path + path_image)\n",
        "    image = image.resize((image_size, image_size))\n",
        "    return keras.utils.img_to_array(image)\n",
        "\n",
        "def preprocess_train_test_set(main_path, paths, image_size):\n",
        "    return np.array([preprocess_image(main_path, path_image, image_size) for path_image in paths])"
      ]
    },
    {
      "cell_type": "code",
      "source": [
        "image_size = 50"
      ],
      "metadata": {
        "id": "nSTfTrD3fegL"
      },
      "execution_count": null,
      "outputs": []
    },
    {
      "cell_type": "code",
      "execution_count": null,
      "metadata": {
        "id": "34dnaUgVWTyb"
      },
      "outputs": [],
      "source": [
        "X = preprocess_train_test_set(main_path, df_train['path'], image_size)\n",
        "np.save(path+'X.npy', X)"
      ]
    },
    {
      "cell_type": "code",
      "source": [
        "X = None\n",
        "X_test = preprocess_train_test_set(main_path, df_test['path'], image_size)\n",
        "np.save(path+'X_test.npy', X_test)"
      ],
      "metadata": {
        "id": "0p3hZdSxjwhJ"
      },
      "execution_count": null,
      "outputs": []
    },
    {
      "cell_type": "markdown",
      "source": [
        "# Cargar data"
      ],
      "metadata": {
        "id": "x76zef63sYze"
      }
    },
    {
      "cell_type": "code",
      "execution_count": 4,
      "metadata": {
        "id": "QVFBMoyPWTyj"
      },
      "outputs": [],
      "source": [
        "X = np.load(path + 'X.npy')\n",
        "# X_test = np.load(path + 'X_test.npy')"
      ]
    },
    {
      "cell_type": "code",
      "source": [
        "df_train = pd.read_csv(path+'train.csv')\n",
        "y = df_train[['food_category', 'dish']]"
      ],
      "metadata": {
        "id": "sxehoVePsxfI"
      },
      "execution_count": 5,
      "outputs": []
    },
    {
      "cell_type": "code",
      "source": [
        "X_train, X_val, y_train, y_val = train_test_split(X, y, test_size=0.5, random_state=42)\n",
        "\n",
        "X_train, X_val, y_train, y_val = train_test_split(X_train, y_train, test_size=0.2, random_state=42)"
      ],
      "metadata": {
        "id": "heRTwC7C2RIm"
      },
      "execution_count": 6,
      "outputs": []
    },
    {
      "cell_type": "markdown",
      "source": [
        "# Entrenamiento de la NN"
      ],
      "metadata": {
        "id": "MNH0UYhHdNrD"
      }
    },
    {
      "cell_type": "code",
      "source": [
        "def macro_f1_sup(y_true, y_pred):\n",
        "    \"\"\"\n",
        "    Calcula el Macro F1-Score.\n",
        "    \"\"\"\n",
        "    y_pred = tf.one_hot(tf.argmax(y_pred, axis=1), depth=3)\n",
        "\n",
        "    tp = tf.cast(tf.math.count_nonzero(y_pred * y_true, axis=1), tf.float32)\n",
        "    fp = tf.cast(tf.math.count_nonzero(y_pred * (1-y_true), axis=1), tf.float32)\n",
        "    fn = tf.cast(tf.math.count_nonzero((1-y_pred) * y_true, axis=1), tf.float32)\n",
        "\n",
        "    precision = tp / (tp + fp)\n",
        "    recall = tp / (tp + fn)\n",
        "\n",
        "    f1 = 2*precision*recall / (precision + recall)\n",
        "    f1 = tf.where(tf.math.is_nan(f1), tf.zeros_like(f1), f1)\n",
        "\n",
        "    return tf.reduce_mean(f1)\n",
        "\n",
        "\n",
        "def macro_f1_sub(y_true, y_pred):\n",
        "    \"\"\"\n",
        "    Calcula el Macro F1-Score.\n",
        "    \"\"\"\n",
        "    y_pred = tf.one_hot(tf.argmax(y_pred, axis=1), depth=101)\n",
        "\n",
        "    tp = tf.cast(tf.math.count_nonzero(y_pred * y_true, axis=1), tf.float32)\n",
        "    fp = tf.cast(tf.math.count_nonzero(y_pred * (1-y_true), axis=1), tf.float32)\n",
        "    fn = tf.cast(tf.math.count_nonzero((1-y_pred) * y_true, axis=1), tf.float32)\n",
        "\n",
        "    precision = tp / (tp + fp)\n",
        "    recall = tp / (tp + fn)\n",
        "\n",
        "    f1 = 2*precision*recall / (precision + recall)\n",
        "    f1 = tf.where(tf.math.is_nan(f1), tf.zeros_like(f1), f1)\n",
        "\n",
        "    return tf.reduce_mean(f1)"
      ],
      "metadata": {
        "id": "1lD0l4pPypBZ"
      },
      "execution_count": 7,
      "outputs": []
    },
    {
      "cell_type": "code",
      "source": [
        "image_size = 50"
      ],
      "metadata": {
        "id": "9fMwbBF12mPI"
      },
      "execution_count": 8,
      "outputs": []
    },
    {
      "cell_type": "code",
      "execution_count": 9,
      "metadata": {
        "id": "ci6Wj9_PWTyk",
        "colab": {
          "base_uri": "https://localhost:8080/"
        },
        "outputId": "31b9eb49-6ff3-4809-c494-bd0fb74b092e"
      },
      "outputs": [
        {
          "output_type": "stream",
          "name": "stdout",
          "text": [
            "Downloading data from https://storage.googleapis.com/tensorflow/keras-applications/resnet/resnet50_weights_tf_dim_ordering_tf_kernels_notop.h5\n",
            "94765736/94765736 [==============================] - 0s 0us/step\n",
            "Model: \"model\"\n",
            "__________________________________________________________________________________________________\n",
            " Layer (type)                Output Shape                 Param #   Connected to                  \n",
            "==================================================================================================\n",
            " resnet50_input (InputLayer  [(None, 50, 50, 3)]          0         []                            \n",
            " )                                                                                                \n",
            "                                                                                                  \n",
            " resnet50 (Functional)       (None, 2, 2, 2048)           2358771   ['resnet50_input[0][0]']      \n",
            "                                                          2                                       \n",
            "                                                                                                  \n",
            " flatten (Flatten)           (None, 8192)                 0         ['resnet50[0][0]']            \n",
            "                                                                                                  \n",
            " dense (Dense)               (None, 128)                  1048704   ['flatten[0][0]']             \n",
            "                                                                                                  \n",
            " dropout (Dropout)           (None, 128)                  0         ['dense[0][0]']               \n",
            "                                                                                                  \n",
            " dense_1 (Dense)             (None, 3)                    387       ['dropout[0][0]']             \n",
            "                                                                                                  \n",
            " dense_2 (Dense)             (None, 101)                  13029     ['dropout[0][0]']             \n",
            "                                                                                                  \n",
            "==================================================================================================\n",
            "Total params: 24649832 (94.03 MB)\n",
            "Trainable params: 1062120 (4.05 MB)\n",
            "Non-trainable params: 23587712 (89.98 MB)\n",
            "__________________________________________________________________________________________________\n"
          ]
        }
      ],
      "source": [
        "cnn_model = ResNet50(weights='imagenet', include_top=False, input_shape=(image_size, image_size, 3))\n",
        "\n",
        "for layer in cnn_model.layers:\n",
        "    layer.trainable = False\n",
        "\n",
        "model = keras.Sequential()\n",
        "model.add(cnn_model)\n",
        "model.add(layers.Flatten())\n",
        "model.add(layers.Dense(128, activation='relu'))\n",
        "model.add(layers.Dropout(0.5))\n",
        "\n",
        "top_level_output = layers.Dense(3, activation='softmax')(model.layers[-1].output)\n",
        "fine_grained_output = layers.Dense(101, activation='softmax')(model.layers[-1].output)\n",
        "\n",
        "model = keras.Model(inputs=model.inputs, outputs=[top_level_output, fine_grained_output])\n",
        "\n",
        "model.summary()"
      ]
    },
    {
      "cell_type": "code",
      "execution_count": 10,
      "metadata": {
        "id": "lCr6VuaGWTyl",
        "colab": {
          "base_uri": "https://localhost:8080/"
        },
        "outputId": "f1fa2daf-cca0-4989-cd0e-d5bdd541ad09"
      },
      "outputs": [
        {
          "output_type": "stream",
          "name": "stdout",
          "text": [
            "Model: \"model\"\n",
            "__________________________________________________________________________________________________\n",
            " Layer (type)                Output Shape                 Param #   Connected to                  \n",
            "==================================================================================================\n",
            " resnet50_input (InputLayer  [(None, 50, 50, 3)]          0         []                            \n",
            " )                                                                                                \n",
            "                                                                                                  \n",
            " resnet50 (Functional)       (None, 2, 2, 2048)           2358771   ['resnet50_input[0][0]']      \n",
            "                                                          2                                       \n",
            "                                                                                                  \n",
            " flatten (Flatten)           (None, 8192)                 0         ['resnet50[0][0]']            \n",
            "                                                                                                  \n",
            " dense (Dense)               (None, 128)                  1048704   ['flatten[0][0]']             \n",
            "                                                                                                  \n",
            " dropout (Dropout)           (None, 128)                  0         ['dense[0][0]']               \n",
            "                                                                                                  \n",
            " dense_1 (Dense)             (None, 3)                    387       ['dropout[0][0]']             \n",
            "                                                                                                  \n",
            " dense_2 (Dense)             (None, 101)                  13029     ['dropout[0][0]']             \n",
            "                                                                                                  \n",
            "==================================================================================================\n",
            "Total params: 24649832 (94.03 MB)\n",
            "Trainable params: 1062120 (4.05 MB)\n",
            "Non-trainable params: 23587712 (89.98 MB)\n",
            "__________________________________________________________________________________________________\n"
          ]
        }
      ],
      "source": [
        "model.compile(optimizer='adam', loss=['categorical_crossentropy', 'categorical_crossentropy'],\n",
        "              metrics={'dense_1': macro_f1_sup, 'dense_2': macro_f1_sub})\n",
        "model.summary()"
      ]
    },
    {
      "cell_type": "code",
      "source": [
        "y_train_sup = tf.one_hot(y_train['food_category'].values, depth=3)\n",
        "y_train_sub = tf.one_hot(y_train['dish'].values, depth=101)\n",
        "\n",
        "y_val_sup = tf.one_hot(y_val['food_category'].values, depth=3)\n",
        "y_val_sub = tf.one_hot(y_val['dish'].values, depth=101)"
      ],
      "metadata": {
        "id": "nMKf1Ofb8DFb"
      },
      "execution_count": 11,
      "outputs": []
    },
    {
      "cell_type": "code",
      "source": [
        "E_S = keras.callbacks.EarlyStopping(monitor='val_dense_2_macro_f1_sub', mode='max', patience=20, restore_best_weights=True)"
      ],
      "metadata": {
        "id": "kJvOWCgDQbO2"
      },
      "execution_count": 12,
      "outputs": []
    },
    {
      "cell_type": "code",
      "source": [
        "history = model.fit(X_train, [y_train_sup, y_train_sub],\n",
        "                    batch_size = 256,\n",
        "                    epochs = 200,\n",
        "                    callbacks=[E_S],#[checkpoint, custom_checkpoint],\n",
        "                    verbose = 1,\n",
        "                    validation_data = (X_val, [y_val_sup, y_val_sub])\n",
        "                    )"
      ],
      "metadata": {
        "colab": {
          "base_uri": "https://localhost:8080/"
        },
        "id": "IUDWfCo8zFTq",
        "outputId": "1b245727-b80a-45bc-d009-39939b3115ea"
      },
      "execution_count": 13,
      "outputs": [
        {
          "output_type": "stream",
          "name": "stdout",
          "text": [
            "Epoch 1/200\n",
            "119/119 [==============================] - 36s 142ms/step - loss: 5.9459 - dense_1_loss: 1.1884 - dense_2_loss: 4.7575 - dense_1_macro_f1_sup: 0.7313 - dense_2_macro_f1_sub: 0.0100 - val_loss: 5.6291 - val_dense_1_loss: 1.0136 - val_dense_2_loss: 4.6155 - val_dense_1_macro_f1_sup: 0.7463 - val_dense_2_macro_f1_sub: 0.0100\n",
            "Epoch 2/200\n",
            "119/119 [==============================] - 11s 90ms/step - loss: 5.5926 - dense_1_loss: 0.9773 - dense_2_loss: 4.6153 - dense_1_macro_f1_sup: 0.7406 - dense_2_macro_f1_sub: 0.0112 - val_loss: 5.5563 - val_dense_1_loss: 0.9405 - val_dense_2_loss: 4.6158 - val_dense_1_macro_f1_sup: 0.7464 - val_dense_2_macro_f1_sub: 0.0074\n",
            "Epoch 3/200\n",
            "119/119 [==============================] - 10s 87ms/step - loss: 5.5288 - dense_1_loss: 0.9139 - dense_2_loss: 4.6149 - dense_1_macro_f1_sup: 0.7401 - dense_2_macro_f1_sub: 0.0110 - val_loss: 5.4940 - val_dense_1_loss: 0.8773 - val_dense_2_loss: 4.6167 - val_dense_1_macro_f1_sup: 0.7436 - val_dense_2_macro_f1_sub: 0.0092\n",
            "Epoch 4/200\n",
            "119/119 [==============================] - 10s 84ms/step - loss: 5.4754 - dense_1_loss: 0.8604 - dense_2_loss: 4.6150 - dense_1_macro_f1_sup: 0.7426 - dense_2_macro_f1_sub: 0.0122 - val_loss: 5.4201 - val_dense_1_loss: 0.8179 - val_dense_2_loss: 4.6022 - val_dense_1_macro_f1_sup: 0.7534 - val_dense_2_macro_f1_sub: 0.0113\n",
            "Epoch 5/200\n",
            "119/119 [==============================] - 10s 85ms/step - loss: 5.4042 - dense_1_loss: 0.8064 - dense_2_loss: 4.5978 - dense_1_macro_f1_sup: 0.7479 - dense_2_macro_f1_sub: 0.0151 - val_loss: 5.3010 - val_dense_1_loss: 0.7514 - val_dense_2_loss: 4.5497 - val_dense_1_macro_f1_sup: 0.7621 - val_dense_2_macro_f1_sub: 0.0188\n",
            "Epoch 6/200\n",
            "119/119 [==============================] - 10s 86ms/step - loss: 5.3284 - dense_1_loss: 0.7598 - dense_2_loss: 4.5686 - dense_1_macro_f1_sup: 0.7552 - dense_2_macro_f1_sub: 0.0167 - val_loss: 5.2433 - val_dense_1_loss: 0.7131 - val_dense_2_loss: 4.5302 - val_dense_1_macro_f1_sup: 0.7548 - val_dense_2_macro_f1_sub: 0.0193\n",
            "Epoch 7/200\n",
            "119/119 [==============================] - 11s 89ms/step - loss: 5.2832 - dense_1_loss: 0.7286 - dense_2_loss: 4.5546 - dense_1_macro_f1_sup: 0.7580 - dense_2_macro_f1_sub: 0.0165 - val_loss: 5.1985 - val_dense_1_loss: 0.6807 - val_dense_2_loss: 4.5178 - val_dense_1_macro_f1_sup: 0.7569 - val_dense_2_macro_f1_sub: 0.0166\n",
            "Epoch 8/200\n",
            "119/119 [==============================] - 11s 90ms/step - loss: 5.2477 - dense_1_loss: 0.7030 - dense_2_loss: 4.5446 - dense_1_macro_f1_sup: 0.7606 - dense_2_macro_f1_sub: 0.0161 - val_loss: 5.1870 - val_dense_1_loss: 0.6700 - val_dense_2_loss: 4.5170 - val_dense_1_macro_f1_sup: 0.7567 - val_dense_2_macro_f1_sub: 0.0183\n",
            "Epoch 9/200\n",
            "119/119 [==============================] - 11s 91ms/step - loss: 5.2293 - dense_1_loss: 0.6909 - dense_2_loss: 4.5384 - dense_1_macro_f1_sup: 0.7625 - dense_2_macro_f1_sub: 0.0169 - val_loss: 5.1658 - val_dense_1_loss: 0.6540 - val_dense_2_loss: 4.5118 - val_dense_1_macro_f1_sup: 0.7546 - val_dense_2_macro_f1_sub: 0.0235\n",
            "Epoch 10/200\n",
            "119/119 [==============================] - 11s 91ms/step - loss: 5.2111 - dense_1_loss: 0.6768 - dense_2_loss: 4.5343 - dense_1_macro_f1_sup: 0.7647 - dense_2_macro_f1_sub: 0.0184 - val_loss: 5.1447 - val_dense_1_loss: 0.6427 - val_dense_2_loss: 4.5020 - val_dense_1_macro_f1_sup: 0.7623 - val_dense_2_macro_f1_sub: 0.0283\n",
            "Epoch 11/200\n",
            "119/119 [==============================] - 11s 89ms/step - loss: 5.1886 - dense_1_loss: 0.6654 - dense_2_loss: 4.5232 - dense_1_macro_f1_sup: 0.7669 - dense_2_macro_f1_sub: 0.0208 - val_loss: 5.1221 - val_dense_1_loss: 0.6380 - val_dense_2_loss: 4.4841 - val_dense_1_macro_f1_sup: 0.7591 - val_dense_2_macro_f1_sub: 0.0314\n",
            "Epoch 12/200\n",
            "119/119 [==============================] - 10s 82ms/step - loss: 5.1621 - dense_1_loss: 0.6541 - dense_2_loss: 4.5080 - dense_1_macro_f1_sup: 0.7709 - dense_2_macro_f1_sub: 0.0225 - val_loss: 5.1025 - val_dense_1_loss: 0.6311 - val_dense_2_loss: 4.4714 - val_dense_1_macro_f1_sup: 0.7566 - val_dense_2_macro_f1_sub: 0.0313\n",
            "Epoch 13/200\n",
            "119/119 [==============================] - 11s 92ms/step - loss: 5.1447 - dense_1_loss: 0.6456 - dense_2_loss: 4.4991 - dense_1_macro_f1_sup: 0.7713 - dense_2_macro_f1_sub: 0.0222 - val_loss: 5.0665 - val_dense_1_loss: 0.6161 - val_dense_2_loss: 4.4504 - val_dense_1_macro_f1_sup: 0.7655 - val_dense_2_macro_f1_sub: 0.0293\n",
            "Epoch 14/200\n",
            "119/119 [==============================] - 11s 91ms/step - loss: 5.1198 - dense_1_loss: 0.6348 - dense_2_loss: 4.4850 - dense_1_macro_f1_sup: 0.7735 - dense_2_macro_f1_sub: 0.0232 - val_loss: 5.0486 - val_dense_1_loss: 0.6105 - val_dense_2_loss: 4.4380 - val_dense_1_macro_f1_sup: 0.7673 - val_dense_2_macro_f1_sub: 0.0340\n",
            "Epoch 15/200\n",
            "119/119 [==============================] - 10s 86ms/step - loss: 5.1076 - dense_1_loss: 0.6312 - dense_2_loss: 4.4764 - dense_1_macro_f1_sup: 0.7726 - dense_2_macro_f1_sub: 0.0237 - val_loss: 5.0356 - val_dense_1_loss: 0.6072 - val_dense_2_loss: 4.4285 - val_dense_1_macro_f1_sup: 0.7670 - val_dense_2_macro_f1_sub: 0.0285\n",
            "Epoch 16/200\n",
            "119/119 [==============================] - 10s 84ms/step - loss: 5.0902 - dense_1_loss: 0.6229 - dense_2_loss: 4.4673 - dense_1_macro_f1_sup: 0.7744 - dense_2_macro_f1_sub: 0.0230 - val_loss: 5.0384 - val_dense_1_loss: 0.6075 - val_dense_2_loss: 4.4308 - val_dense_1_macro_f1_sup: 0.7686 - val_dense_2_macro_f1_sub: 0.0358\n",
            "Epoch 17/200\n",
            "119/119 [==============================] - 11s 90ms/step - loss: 5.0694 - dense_1_loss: 0.6139 - dense_2_loss: 4.4555 - dense_1_macro_f1_sup: 0.7780 - dense_2_macro_f1_sub: 0.0253 - val_loss: 5.0147 - val_dense_1_loss: 0.5967 - val_dense_2_loss: 4.4180 - val_dense_1_macro_f1_sup: 0.7714 - val_dense_2_macro_f1_sub: 0.0353\n",
            "Epoch 18/200\n",
            "119/119 [==============================] - 11s 91ms/step - loss: 5.0463 - dense_1_loss: 0.6062 - dense_2_loss: 4.4401 - dense_1_macro_f1_sup: 0.7799 - dense_2_macro_f1_sub: 0.0268 - val_loss: 4.9879 - val_dense_1_loss: 0.5916 - val_dense_2_loss: 4.3962 - val_dense_1_macro_f1_sup: 0.7750 - val_dense_2_macro_f1_sub: 0.0371\n",
            "Epoch 19/200\n",
            "119/119 [==============================] - 10s 84ms/step - loss: 5.0385 - dense_1_loss: 0.6033 - dense_2_loss: 4.4352 - dense_1_macro_f1_sup: 0.7807 - dense_2_macro_f1_sub: 0.0259 - val_loss: 5.0063 - val_dense_1_loss: 0.5968 - val_dense_2_loss: 4.4096 - val_dense_1_macro_f1_sup: 0.7711 - val_dense_2_macro_f1_sub: 0.0360\n",
            "Epoch 20/200\n",
            "119/119 [==============================] - 10s 88ms/step - loss: 5.0106 - dense_1_loss: 0.5925 - dense_2_loss: 4.4181 - dense_1_macro_f1_sup: 0.7856 - dense_2_macro_f1_sub: 0.0275 - val_loss: 4.9986 - val_dense_1_loss: 0.5928 - val_dense_2_loss: 4.4058 - val_dense_1_macro_f1_sup: 0.7737 - val_dense_2_macro_f1_sub: 0.0358\n",
            "Epoch 21/200\n",
            "119/119 [==============================] - 10s 84ms/step - loss: 5.0097 - dense_1_loss: 0.5925 - dense_2_loss: 4.4171 - dense_1_macro_f1_sup: 0.7835 - dense_2_macro_f1_sub: 0.0268 - val_loss: 5.0000 - val_dense_1_loss: 0.5972 - val_dense_2_loss: 4.4028 - val_dense_1_macro_f1_sup: 0.7676 - val_dense_2_macro_f1_sub: 0.0339\n",
            "Epoch 22/200\n",
            "119/119 [==============================] - 11s 90ms/step - loss: 4.9945 - dense_1_loss: 0.5875 - dense_2_loss: 4.4070 - dense_1_macro_f1_sup: 0.7866 - dense_2_macro_f1_sub: 0.0287 - val_loss: 4.9828 - val_dense_1_loss: 0.5891 - val_dense_2_loss: 4.3936 - val_dense_1_macro_f1_sup: 0.7700 - val_dense_2_macro_f1_sub: 0.0347\n",
            "Epoch 23/200\n",
            "119/119 [==============================] - 11s 91ms/step - loss: 4.9892 - dense_1_loss: 0.5860 - dense_2_loss: 4.4032 - dense_1_macro_f1_sup: 0.7862 - dense_2_macro_f1_sub: 0.0279 - val_loss: 4.9468 - val_dense_1_loss: 0.5793 - val_dense_2_loss: 4.3675 - val_dense_1_macro_f1_sup: 0.7778 - val_dense_2_macro_f1_sub: 0.0405\n",
            "Epoch 24/200\n",
            "119/119 [==============================] - 11s 89ms/step - loss: 4.9653 - dense_1_loss: 0.5769 - dense_2_loss: 4.3884 - dense_1_macro_f1_sup: 0.7889 - dense_2_macro_f1_sub: 0.0288 - val_loss: 4.9635 - val_dense_1_loss: 0.5819 - val_dense_2_loss: 4.3816 - val_dense_1_macro_f1_sup: 0.7769 - val_dense_2_macro_f1_sub: 0.0379\n",
            "Epoch 25/200\n",
            "119/119 [==============================] - 11s 89ms/step - loss: 4.9553 - dense_1_loss: 0.5733 - dense_2_loss: 4.3820 - dense_1_macro_f1_sup: 0.7914 - dense_2_macro_f1_sub: 0.0285 - val_loss: 4.9582 - val_dense_1_loss: 0.5851 - val_dense_2_loss: 4.3731 - val_dense_1_macro_f1_sup: 0.7777 - val_dense_2_macro_f1_sub: 0.0398\n",
            "Epoch 26/200\n",
            "119/119 [==============================] - 10s 84ms/step - loss: 4.9599 - dense_1_loss: 0.5747 - dense_2_loss: 4.3852 - dense_1_macro_f1_sup: 0.7891 - dense_2_macro_f1_sub: 0.0273 - val_loss: 4.9528 - val_dense_1_loss: 0.5808 - val_dense_2_loss: 4.3721 - val_dense_1_macro_f1_sup: 0.7765 - val_dense_2_macro_f1_sub: 0.0349\n",
            "Epoch 27/200\n",
            "119/119 [==============================] - 11s 91ms/step - loss: 4.9362 - dense_1_loss: 0.5663 - dense_2_loss: 4.3698 - dense_1_macro_f1_sup: 0.7927 - dense_2_macro_f1_sub: 0.0287 - val_loss: 4.9503 - val_dense_1_loss: 0.5805 - val_dense_2_loss: 4.3698 - val_dense_1_macro_f1_sup: 0.7778 - val_dense_2_macro_f1_sub: 0.0349\n",
            "Epoch 28/200\n",
            "119/119 [==============================] - 10s 84ms/step - loss: 4.9254 - dense_1_loss: 0.5598 - dense_2_loss: 4.3655 - dense_1_macro_f1_sup: 0.7963 - dense_2_macro_f1_sub: 0.0273 - val_loss: 4.9704 - val_dense_1_loss: 0.5879 - val_dense_2_loss: 4.3825 - val_dense_1_macro_f1_sup: 0.7759 - val_dense_2_macro_f1_sub: 0.0339\n",
            "Epoch 29/200\n",
            "119/119 [==============================] - 11s 89ms/step - loss: 4.9153 - dense_1_loss: 0.5568 - dense_2_loss: 4.3584 - dense_1_macro_f1_sup: 0.7950 - dense_2_macro_f1_sub: 0.0289 - val_loss: 4.9571 - val_dense_1_loss: 0.5815 - val_dense_2_loss: 4.3755 - val_dense_1_macro_f1_sup: 0.7806 - val_dense_2_macro_f1_sub: 0.0380\n",
            "Epoch 30/200\n",
            "119/119 [==============================] - 10s 85ms/step - loss: 4.9128 - dense_1_loss: 0.5562 - dense_2_loss: 4.3566 - dense_1_macro_f1_sup: 0.7967 - dense_2_macro_f1_sub: 0.0298 - val_loss: 4.9366 - val_dense_1_loss: 0.5811 - val_dense_2_loss: 4.3555 - val_dense_1_macro_f1_sup: 0.7792 - val_dense_2_macro_f1_sub: 0.0369\n",
            "Epoch 31/200\n",
            "119/119 [==============================] - 11s 90ms/step - loss: 4.9105 - dense_1_loss: 0.5547 - dense_2_loss: 4.3558 - dense_1_macro_f1_sup: 0.7970 - dense_2_macro_f1_sub: 0.0278 - val_loss: 4.9494 - val_dense_1_loss: 0.5849 - val_dense_2_loss: 4.3645 - val_dense_1_macro_f1_sup: 0.7759 - val_dense_2_macro_f1_sub: 0.0395\n",
            "Epoch 32/200\n",
            "119/119 [==============================] - 10s 83ms/step - loss: 4.9079 - dense_1_loss: 0.5548 - dense_2_loss: 4.3531 - dense_1_macro_f1_sup: 0.7966 - dense_2_macro_f1_sub: 0.0289 - val_loss: 4.9482 - val_dense_1_loss: 0.5844 - val_dense_2_loss: 4.3638 - val_dense_1_macro_f1_sup: 0.7774 - val_dense_2_macro_f1_sub: 0.0350\n",
            "Epoch 33/200\n",
            "119/119 [==============================] - 11s 89ms/step - loss: 4.8954 - dense_1_loss: 0.5482 - dense_2_loss: 4.3472 - dense_1_macro_f1_sup: 0.7988 - dense_2_macro_f1_sub: 0.0290 - val_loss: 4.9579 - val_dense_1_loss: 0.5839 - val_dense_2_loss: 4.3740 - val_dense_1_macro_f1_sup: 0.7775 - val_dense_2_macro_f1_sub: 0.0352\n",
            "Epoch 34/200\n",
            "119/119 [==============================] - 11s 90ms/step - loss: 4.8772 - dense_1_loss: 0.5422 - dense_2_loss: 4.3350 - dense_1_macro_f1_sup: 0.8020 - dense_2_macro_f1_sub: 0.0301 - val_loss: 4.9595 - val_dense_1_loss: 0.5890 - val_dense_2_loss: 4.3705 - val_dense_1_macro_f1_sup: 0.7784 - val_dense_2_macro_f1_sub: 0.0373\n",
            "Epoch 35/200\n",
            "119/119 [==============================] - 11s 90ms/step - loss: 4.8801 - dense_1_loss: 0.5429 - dense_2_loss: 4.3373 - dense_1_macro_f1_sup: 0.8017 - dense_2_macro_f1_sub: 0.0296 - val_loss: 4.9620 - val_dense_1_loss: 0.5934 - val_dense_2_loss: 4.3686 - val_dense_1_macro_f1_sup: 0.7764 - val_dense_2_macro_f1_sub: 0.0361\n",
            "Epoch 36/200\n",
            "119/119 [==============================] - 10s 84ms/step - loss: 4.8707 - dense_1_loss: 0.5399 - dense_2_loss: 4.3309 - dense_1_macro_f1_sup: 0.8035 - dense_2_macro_f1_sub: 0.0301 - val_loss: 4.9708 - val_dense_1_loss: 0.5897 - val_dense_2_loss: 4.3811 - val_dense_1_macro_f1_sup: 0.7776 - val_dense_2_macro_f1_sub: 0.0367\n",
            "Epoch 37/200\n",
            "119/119 [==============================] - 10s 83ms/step - loss: 4.8669 - dense_1_loss: 0.5357 - dense_2_loss: 4.3312 - dense_1_macro_f1_sup: 0.8081 - dense_2_macro_f1_sub: 0.0306 - val_loss: 4.9670 - val_dense_1_loss: 0.5951 - val_dense_2_loss: 4.3719 - val_dense_1_macro_f1_sup: 0.7781 - val_dense_2_macro_f1_sub: 0.0347\n",
            "Epoch 38/200\n",
            "119/119 [==============================] - 10s 85ms/step - loss: 4.8517 - dense_1_loss: 0.5308 - dense_2_loss: 4.3209 - dense_1_macro_f1_sup: 0.8081 - dense_2_macro_f1_sub: 0.0294 - val_loss: 4.9671 - val_dense_1_loss: 0.5941 - val_dense_2_loss: 4.3729 - val_dense_1_macro_f1_sup: 0.7756 - val_dense_2_macro_f1_sub: 0.0354\n",
            "Epoch 39/200\n",
            "119/119 [==============================] - 10s 88ms/step - loss: 4.8604 - dense_1_loss: 0.5356 - dense_2_loss: 4.3249 - dense_1_macro_f1_sup: 0.8035 - dense_2_macro_f1_sub: 0.0302 - val_loss: 4.9806 - val_dense_1_loss: 0.6002 - val_dense_2_loss: 4.3804 - val_dense_1_macro_f1_sup: 0.7765 - val_dense_2_macro_f1_sub: 0.0359\n",
            "Epoch 40/200\n",
            "119/119 [==============================] - 11s 89ms/step - loss: 4.8453 - dense_1_loss: 0.5292 - dense_2_loss: 4.3161 - dense_1_macro_f1_sup: 0.8078 - dense_2_macro_f1_sub: 0.0296 - val_loss: 4.9780 - val_dense_1_loss: 0.5990 - val_dense_2_loss: 4.3790 - val_dense_1_macro_f1_sup: 0.7754 - val_dense_2_macro_f1_sub: 0.0405\n",
            "Epoch 41/200\n",
            "119/119 [==============================] - 11s 89ms/step - loss: 4.8397 - dense_1_loss: 0.5282 - dense_2_loss: 4.3115 - dense_1_macro_f1_sup: 0.8088 - dense_2_macro_f1_sub: 0.0307 - val_loss: 4.9942 - val_dense_1_loss: 0.6010 - val_dense_2_loss: 4.3932 - val_dense_1_macro_f1_sup: 0.7758 - val_dense_2_macro_f1_sub: 0.0349\n",
            "Epoch 42/200\n",
            "119/119 [==============================] - 10s 84ms/step - loss: 4.8495 - dense_1_loss: 0.5303 - dense_2_loss: 4.3192 - dense_1_macro_f1_sup: 0.8068 - dense_2_macro_f1_sub: 0.0304 - val_loss: 4.9861 - val_dense_1_loss: 0.6012 - val_dense_2_loss: 4.3849 - val_dense_1_macro_f1_sup: 0.7745 - val_dense_2_macro_f1_sub: 0.0349\n",
            "Epoch 43/200\n",
            "119/119 [==============================] - 10s 86ms/step - loss: 4.8356 - dense_1_loss: 0.5254 - dense_2_loss: 4.3102 - dense_1_macro_f1_sup: 0.8115 - dense_2_macro_f1_sub: 0.0306 - val_loss: 4.9945 - val_dense_1_loss: 0.6051 - val_dense_2_loss: 4.3894 - val_dense_1_macro_f1_sup: 0.7742 - val_dense_2_macro_f1_sub: 0.0399\n"
          ]
        }
      ]
    },
    {
      "cell_type": "markdown",
      "source": [
        "# Predecimos el Test Set"
      ],
      "metadata": {
        "id": "0ftL09vGVFlX"
      }
    },
    {
      "cell_type": "code",
      "source": [
        "X_test = np.load(path+'X_test.npy')"
      ],
      "metadata": {
        "id": "lPH6DFdDU_Ur"
      },
      "execution_count": 14,
      "outputs": []
    },
    {
      "cell_type": "code",
      "source": [
        "y_pred = model.predict(X_test, verbose=0)"
      ],
      "metadata": {
        "id": "yAzgDD1sV8mb"
      },
      "execution_count": 15,
      "outputs": []
    },
    {
      "cell_type": "code",
      "source": [
        "sample_submission = pd.read_csv(path+'sample_submission.csv')"
      ],
      "metadata": {
        "id": "ZJUjexUYVdK-"
      },
      "execution_count": 16,
      "outputs": []
    },
    {
      "cell_type": "code",
      "source": [
        "sample_submission"
      ],
      "metadata": {
        "colab": {
          "base_uri": "https://localhost:8080/",
          "height": 423
        },
        "id": "WKOI5AmNVimn",
        "outputId": "105490af-4dab-4576-c790-b2839fcbbd5b"
      },
      "execution_count": 17,
      "outputs": [
        {
          "output_type": "execute_result",
          "data": {
            "text/plain": [
              "                                  path classes\n",
              "0      images/caprese_salad/820512.jpg     0 0\n",
              "1         images/hamburger/2062556.jpg     0 0\n",
              "2           images/lasagna/2381454.jpg     0 0\n",
              "3              images/ceviche/1995.jpg     0 0\n",
              "4            images/poutine/892377.jpg     0 0\n",
              "...                                ...     ...\n",
              "25245       images/ravioli/2087725.jpg     0 0\n",
              "25246      images/ice_cream/504131.jpg     0 0\n",
              "25247       images/cannoli/1187751.jpg     0 0\n",
              "25248       images/pancakes/477236.jpg     0 0\n",
              "25249  images/seaweed_salad/954189.jpg     0 0\n",
              "\n",
              "[25250 rows x 2 columns]"
            ],
            "text/html": [
              "\n",
              "  <div id=\"df-64598149-6314-4f38-b4b2-8bc43a49f977\" class=\"colab-df-container\">\n",
              "    <div>\n",
              "<style scoped>\n",
              "    .dataframe tbody tr th:only-of-type {\n",
              "        vertical-align: middle;\n",
              "    }\n",
              "\n",
              "    .dataframe tbody tr th {\n",
              "        vertical-align: top;\n",
              "    }\n",
              "\n",
              "    .dataframe thead th {\n",
              "        text-align: right;\n",
              "    }\n",
              "</style>\n",
              "<table border=\"1\" class=\"dataframe\">\n",
              "  <thead>\n",
              "    <tr style=\"text-align: right;\">\n",
              "      <th></th>\n",
              "      <th>path</th>\n",
              "      <th>classes</th>\n",
              "    </tr>\n",
              "  </thead>\n",
              "  <tbody>\n",
              "    <tr>\n",
              "      <th>0</th>\n",
              "      <td>images/caprese_salad/820512.jpg</td>\n",
              "      <td>0 0</td>\n",
              "    </tr>\n",
              "    <tr>\n",
              "      <th>1</th>\n",
              "      <td>images/hamburger/2062556.jpg</td>\n",
              "      <td>0 0</td>\n",
              "    </tr>\n",
              "    <tr>\n",
              "      <th>2</th>\n",
              "      <td>images/lasagna/2381454.jpg</td>\n",
              "      <td>0 0</td>\n",
              "    </tr>\n",
              "    <tr>\n",
              "      <th>3</th>\n",
              "      <td>images/ceviche/1995.jpg</td>\n",
              "      <td>0 0</td>\n",
              "    </tr>\n",
              "    <tr>\n",
              "      <th>4</th>\n",
              "      <td>images/poutine/892377.jpg</td>\n",
              "      <td>0 0</td>\n",
              "    </tr>\n",
              "    <tr>\n",
              "      <th>...</th>\n",
              "      <td>...</td>\n",
              "      <td>...</td>\n",
              "    </tr>\n",
              "    <tr>\n",
              "      <th>25245</th>\n",
              "      <td>images/ravioli/2087725.jpg</td>\n",
              "      <td>0 0</td>\n",
              "    </tr>\n",
              "    <tr>\n",
              "      <th>25246</th>\n",
              "      <td>images/ice_cream/504131.jpg</td>\n",
              "      <td>0 0</td>\n",
              "    </tr>\n",
              "    <tr>\n",
              "      <th>25247</th>\n",
              "      <td>images/cannoli/1187751.jpg</td>\n",
              "      <td>0 0</td>\n",
              "    </tr>\n",
              "    <tr>\n",
              "      <th>25248</th>\n",
              "      <td>images/pancakes/477236.jpg</td>\n",
              "      <td>0 0</td>\n",
              "    </tr>\n",
              "    <tr>\n",
              "      <th>25249</th>\n",
              "      <td>images/seaweed_salad/954189.jpg</td>\n",
              "      <td>0 0</td>\n",
              "    </tr>\n",
              "  </tbody>\n",
              "</table>\n",
              "<p>25250 rows × 2 columns</p>\n",
              "</div>\n",
              "    <div class=\"colab-df-buttons\">\n",
              "\n",
              "  <div class=\"colab-df-container\">\n",
              "    <button class=\"colab-df-convert\" onclick=\"convertToInteractive('df-64598149-6314-4f38-b4b2-8bc43a49f977')\"\n",
              "            title=\"Convert this dataframe to an interactive table.\"\n",
              "            style=\"display:none;\">\n",
              "\n",
              "  <svg xmlns=\"http://www.w3.org/2000/svg\" height=\"24px\" viewBox=\"0 -960 960 960\">\n",
              "    <path d=\"M120-120v-720h720v720H120Zm60-500h600v-160H180v160Zm220 220h160v-160H400v160Zm0 220h160v-160H400v160ZM180-400h160v-160H180v160Zm440 0h160v-160H620v160ZM180-180h160v-160H180v160Zm440 0h160v-160H620v160Z\"/>\n",
              "  </svg>\n",
              "    </button>\n",
              "\n",
              "  <style>\n",
              "    .colab-df-container {\n",
              "      display:flex;\n",
              "      gap: 12px;\n",
              "    }\n",
              "\n",
              "    .colab-df-convert {\n",
              "      background-color: #E8F0FE;\n",
              "      border: none;\n",
              "      border-radius: 50%;\n",
              "      cursor: pointer;\n",
              "      display: none;\n",
              "      fill: #1967D2;\n",
              "      height: 32px;\n",
              "      padding: 0 0 0 0;\n",
              "      width: 32px;\n",
              "    }\n",
              "\n",
              "    .colab-df-convert:hover {\n",
              "      background-color: #E2EBFA;\n",
              "      box-shadow: 0px 1px 2px rgba(60, 64, 67, 0.3), 0px 1px 3px 1px rgba(60, 64, 67, 0.15);\n",
              "      fill: #174EA6;\n",
              "    }\n",
              "\n",
              "    .colab-df-buttons div {\n",
              "      margin-bottom: 4px;\n",
              "    }\n",
              "\n",
              "    [theme=dark] .colab-df-convert {\n",
              "      background-color: #3B4455;\n",
              "      fill: #D2E3FC;\n",
              "    }\n",
              "\n",
              "    [theme=dark] .colab-df-convert:hover {\n",
              "      background-color: #434B5C;\n",
              "      box-shadow: 0px 1px 3px 1px rgba(0, 0, 0, 0.15);\n",
              "      filter: drop-shadow(0px 1px 2px rgba(0, 0, 0, 0.3));\n",
              "      fill: #FFFFFF;\n",
              "    }\n",
              "  </style>\n",
              "\n",
              "    <script>\n",
              "      const buttonEl =\n",
              "        document.querySelector('#df-64598149-6314-4f38-b4b2-8bc43a49f977 button.colab-df-convert');\n",
              "      buttonEl.style.display =\n",
              "        google.colab.kernel.accessAllowed ? 'block' : 'none';\n",
              "\n",
              "      async function convertToInteractive(key) {\n",
              "        const element = document.querySelector('#df-64598149-6314-4f38-b4b2-8bc43a49f977');\n",
              "        const dataTable =\n",
              "          await google.colab.kernel.invokeFunction('convertToInteractive',\n",
              "                                                    [key], {});\n",
              "        if (!dataTable) return;\n",
              "\n",
              "        const docLinkHtml = 'Like what you see? Visit the ' +\n",
              "          '<a target=\"_blank\" href=https://colab.research.google.com/notebooks/data_table.ipynb>data table notebook</a>'\n",
              "          + ' to learn more about interactive tables.';\n",
              "        element.innerHTML = '';\n",
              "        dataTable['output_type'] = 'display_data';\n",
              "        await google.colab.output.renderOutput(dataTable, element);\n",
              "        const docLink = document.createElement('div');\n",
              "        docLink.innerHTML = docLinkHtml;\n",
              "        element.appendChild(docLink);\n",
              "      }\n",
              "    </script>\n",
              "  </div>\n",
              "\n",
              "\n",
              "<div id=\"df-6fc5c3c2-d12c-4857-9c0c-3d3a9b4ade4e\">\n",
              "  <button class=\"colab-df-quickchart\" onclick=\"quickchart('df-6fc5c3c2-d12c-4857-9c0c-3d3a9b4ade4e')\"\n",
              "            title=\"Suggest charts.\"\n",
              "            style=\"display:none;\">\n",
              "\n",
              "<svg xmlns=\"http://www.w3.org/2000/svg\" height=\"24px\"viewBox=\"0 0 24 24\"\n",
              "     width=\"24px\">\n",
              "    <g>\n",
              "        <path d=\"M19 3H5c-1.1 0-2 .9-2 2v14c0 1.1.9 2 2 2h14c1.1 0 2-.9 2-2V5c0-1.1-.9-2-2-2zM9 17H7v-7h2v7zm4 0h-2V7h2v10zm4 0h-2v-4h2v4z\"/>\n",
              "    </g>\n",
              "</svg>\n",
              "  </button>\n",
              "\n",
              "<style>\n",
              "  .colab-df-quickchart {\n",
              "      --bg-color: #E8F0FE;\n",
              "      --fill-color: #1967D2;\n",
              "      --hover-bg-color: #E2EBFA;\n",
              "      --hover-fill-color: #174EA6;\n",
              "      --disabled-fill-color: #AAA;\n",
              "      --disabled-bg-color: #DDD;\n",
              "  }\n",
              "\n",
              "  [theme=dark] .colab-df-quickchart {\n",
              "      --bg-color: #3B4455;\n",
              "      --fill-color: #D2E3FC;\n",
              "      --hover-bg-color: #434B5C;\n",
              "      --hover-fill-color: #FFFFFF;\n",
              "      --disabled-bg-color: #3B4455;\n",
              "      --disabled-fill-color: #666;\n",
              "  }\n",
              "\n",
              "  .colab-df-quickchart {\n",
              "    background-color: var(--bg-color);\n",
              "    border: none;\n",
              "    border-radius: 50%;\n",
              "    cursor: pointer;\n",
              "    display: none;\n",
              "    fill: var(--fill-color);\n",
              "    height: 32px;\n",
              "    padding: 0;\n",
              "    width: 32px;\n",
              "  }\n",
              "\n",
              "  .colab-df-quickchart:hover {\n",
              "    background-color: var(--hover-bg-color);\n",
              "    box-shadow: 0 1px 2px rgba(60, 64, 67, 0.3), 0 1px 3px 1px rgba(60, 64, 67, 0.15);\n",
              "    fill: var(--button-hover-fill-color);\n",
              "  }\n",
              "\n",
              "  .colab-df-quickchart-complete:disabled,\n",
              "  .colab-df-quickchart-complete:disabled:hover {\n",
              "    background-color: var(--disabled-bg-color);\n",
              "    fill: var(--disabled-fill-color);\n",
              "    box-shadow: none;\n",
              "  }\n",
              "\n",
              "  .colab-df-spinner {\n",
              "    border: 2px solid var(--fill-color);\n",
              "    border-color: transparent;\n",
              "    border-bottom-color: var(--fill-color);\n",
              "    animation:\n",
              "      spin 1s steps(1) infinite;\n",
              "  }\n",
              "\n",
              "  @keyframes spin {\n",
              "    0% {\n",
              "      border-color: transparent;\n",
              "      border-bottom-color: var(--fill-color);\n",
              "      border-left-color: var(--fill-color);\n",
              "    }\n",
              "    20% {\n",
              "      border-color: transparent;\n",
              "      border-left-color: var(--fill-color);\n",
              "      border-top-color: var(--fill-color);\n",
              "    }\n",
              "    30% {\n",
              "      border-color: transparent;\n",
              "      border-left-color: var(--fill-color);\n",
              "      border-top-color: var(--fill-color);\n",
              "      border-right-color: var(--fill-color);\n",
              "    }\n",
              "    40% {\n",
              "      border-color: transparent;\n",
              "      border-right-color: var(--fill-color);\n",
              "      border-top-color: var(--fill-color);\n",
              "    }\n",
              "    60% {\n",
              "      border-color: transparent;\n",
              "      border-right-color: var(--fill-color);\n",
              "    }\n",
              "    80% {\n",
              "      border-color: transparent;\n",
              "      border-right-color: var(--fill-color);\n",
              "      border-bottom-color: var(--fill-color);\n",
              "    }\n",
              "    90% {\n",
              "      border-color: transparent;\n",
              "      border-bottom-color: var(--fill-color);\n",
              "    }\n",
              "  }\n",
              "</style>\n",
              "\n",
              "  <script>\n",
              "    async function quickchart(key) {\n",
              "      const quickchartButtonEl =\n",
              "        document.querySelector('#' + key + ' button');\n",
              "      quickchartButtonEl.disabled = true;  // To prevent multiple clicks.\n",
              "      quickchartButtonEl.classList.add('colab-df-spinner');\n",
              "      try {\n",
              "        const charts = await google.colab.kernel.invokeFunction(\n",
              "            'suggestCharts', [key], {});\n",
              "      } catch (error) {\n",
              "        console.error('Error during call to suggestCharts:', error);\n",
              "      }\n",
              "      quickchartButtonEl.classList.remove('colab-df-spinner');\n",
              "      quickchartButtonEl.classList.add('colab-df-quickchart-complete');\n",
              "    }\n",
              "    (() => {\n",
              "      let quickchartButtonEl =\n",
              "        document.querySelector('#df-6fc5c3c2-d12c-4857-9c0c-3d3a9b4ade4e button');\n",
              "      quickchartButtonEl.style.display =\n",
              "        google.colab.kernel.accessAllowed ? 'block' : 'none';\n",
              "    })();\n",
              "  </script>\n",
              "</div>\n",
              "    </div>\n",
              "  </div>\n"
            ]
          },
          "metadata": {},
          "execution_count": 17
        }
      ]
    },
    {
      "cell_type": "code",
      "source": [
        "sample_submission['sup_clase'] = np.argmax(y_pred[0], axis=1)\n",
        "sample_submission['sub_clase'] = np.argmax(y_pred[1], axis=1)"
      ],
      "metadata": {
        "id": "bLtLHKkJWaCG"
      },
      "execution_count": 18,
      "outputs": []
    },
    {
      "cell_type": "code",
      "source": [
        "sample_submission['classes'] = sample_submission['sup_clase'].astype(str) + ' ' + sample_submission['sub_clase'].astype(str)"
      ],
      "metadata": {
        "id": "N16sylsMWjAW"
      },
      "execution_count": 19,
      "outputs": []
    },
    {
      "cell_type": "code",
      "source": [
        "sample_submission = sample_submission.drop(['sup_clase', 'sub_clase'], axis = 1)"
      ],
      "metadata": {
        "id": "L4-1CzN3WklH"
      },
      "execution_count": 20,
      "outputs": []
    },
    {
      "cell_type": "code",
      "source": [
        "sample_submission"
      ],
      "metadata": {
        "colab": {
          "base_uri": "https://localhost:8080/",
          "height": 423
        },
        "id": "_JpWcQ4RWyCP",
        "outputId": "5d89d8d7-5593-4c7e-8ed9-372451639d3b"
      },
      "execution_count": 21,
      "outputs": [
        {
          "output_type": "execute_result",
          "data": {
            "text/plain": [
              "                                  path classes\n",
              "0      images/caprese_salad/820512.jpg    2 88\n",
              "1         images/hamburger/2062556.jpg    2 88\n",
              "2           images/lasagna/2381454.jpg    2 99\n",
              "3              images/ceviche/1995.jpg    2 88\n",
              "4            images/poutine/892377.jpg    2 88\n",
              "...                                ...     ...\n",
              "25245       images/ravioli/2087725.jpg    2 93\n",
              "25246      images/ice_cream/504131.jpg    2 88\n",
              "25247       images/cannoli/1187751.jpg    2 83\n",
              "25248       images/pancakes/477236.jpg    2 83\n",
              "25249  images/seaweed_salad/954189.jpg    2 11\n",
              "\n",
              "[25250 rows x 2 columns]"
            ],
            "text/html": [
              "\n",
              "  <div id=\"df-c571aa55-4699-4825-9c15-a463792c8c99\" class=\"colab-df-container\">\n",
              "    <div>\n",
              "<style scoped>\n",
              "    .dataframe tbody tr th:only-of-type {\n",
              "        vertical-align: middle;\n",
              "    }\n",
              "\n",
              "    .dataframe tbody tr th {\n",
              "        vertical-align: top;\n",
              "    }\n",
              "\n",
              "    .dataframe thead th {\n",
              "        text-align: right;\n",
              "    }\n",
              "</style>\n",
              "<table border=\"1\" class=\"dataframe\">\n",
              "  <thead>\n",
              "    <tr style=\"text-align: right;\">\n",
              "      <th></th>\n",
              "      <th>path</th>\n",
              "      <th>classes</th>\n",
              "    </tr>\n",
              "  </thead>\n",
              "  <tbody>\n",
              "    <tr>\n",
              "      <th>0</th>\n",
              "      <td>images/caprese_salad/820512.jpg</td>\n",
              "      <td>2 88</td>\n",
              "    </tr>\n",
              "    <tr>\n",
              "      <th>1</th>\n",
              "      <td>images/hamburger/2062556.jpg</td>\n",
              "      <td>2 88</td>\n",
              "    </tr>\n",
              "    <tr>\n",
              "      <th>2</th>\n",
              "      <td>images/lasagna/2381454.jpg</td>\n",
              "      <td>2 99</td>\n",
              "    </tr>\n",
              "    <tr>\n",
              "      <th>3</th>\n",
              "      <td>images/ceviche/1995.jpg</td>\n",
              "      <td>2 88</td>\n",
              "    </tr>\n",
              "    <tr>\n",
              "      <th>4</th>\n",
              "      <td>images/poutine/892377.jpg</td>\n",
              "      <td>2 88</td>\n",
              "    </tr>\n",
              "    <tr>\n",
              "      <th>...</th>\n",
              "      <td>...</td>\n",
              "      <td>...</td>\n",
              "    </tr>\n",
              "    <tr>\n",
              "      <th>25245</th>\n",
              "      <td>images/ravioli/2087725.jpg</td>\n",
              "      <td>2 93</td>\n",
              "    </tr>\n",
              "    <tr>\n",
              "      <th>25246</th>\n",
              "      <td>images/ice_cream/504131.jpg</td>\n",
              "      <td>2 88</td>\n",
              "    </tr>\n",
              "    <tr>\n",
              "      <th>25247</th>\n",
              "      <td>images/cannoli/1187751.jpg</td>\n",
              "      <td>2 83</td>\n",
              "    </tr>\n",
              "    <tr>\n",
              "      <th>25248</th>\n",
              "      <td>images/pancakes/477236.jpg</td>\n",
              "      <td>2 83</td>\n",
              "    </tr>\n",
              "    <tr>\n",
              "      <th>25249</th>\n",
              "      <td>images/seaweed_salad/954189.jpg</td>\n",
              "      <td>2 11</td>\n",
              "    </tr>\n",
              "  </tbody>\n",
              "</table>\n",
              "<p>25250 rows × 2 columns</p>\n",
              "</div>\n",
              "    <div class=\"colab-df-buttons\">\n",
              "\n",
              "  <div class=\"colab-df-container\">\n",
              "    <button class=\"colab-df-convert\" onclick=\"convertToInteractive('df-c571aa55-4699-4825-9c15-a463792c8c99')\"\n",
              "            title=\"Convert this dataframe to an interactive table.\"\n",
              "            style=\"display:none;\">\n",
              "\n",
              "  <svg xmlns=\"http://www.w3.org/2000/svg\" height=\"24px\" viewBox=\"0 -960 960 960\">\n",
              "    <path d=\"M120-120v-720h720v720H120Zm60-500h600v-160H180v160Zm220 220h160v-160H400v160Zm0 220h160v-160H400v160ZM180-400h160v-160H180v160Zm440 0h160v-160H620v160ZM180-180h160v-160H180v160Zm440 0h160v-160H620v160Z\"/>\n",
              "  </svg>\n",
              "    </button>\n",
              "\n",
              "  <style>\n",
              "    .colab-df-container {\n",
              "      display:flex;\n",
              "      gap: 12px;\n",
              "    }\n",
              "\n",
              "    .colab-df-convert {\n",
              "      background-color: #E8F0FE;\n",
              "      border: none;\n",
              "      border-radius: 50%;\n",
              "      cursor: pointer;\n",
              "      display: none;\n",
              "      fill: #1967D2;\n",
              "      height: 32px;\n",
              "      padding: 0 0 0 0;\n",
              "      width: 32px;\n",
              "    }\n",
              "\n",
              "    .colab-df-convert:hover {\n",
              "      background-color: #E2EBFA;\n",
              "      box-shadow: 0px 1px 2px rgba(60, 64, 67, 0.3), 0px 1px 3px 1px rgba(60, 64, 67, 0.15);\n",
              "      fill: #174EA6;\n",
              "    }\n",
              "\n",
              "    .colab-df-buttons div {\n",
              "      margin-bottom: 4px;\n",
              "    }\n",
              "\n",
              "    [theme=dark] .colab-df-convert {\n",
              "      background-color: #3B4455;\n",
              "      fill: #D2E3FC;\n",
              "    }\n",
              "\n",
              "    [theme=dark] .colab-df-convert:hover {\n",
              "      background-color: #434B5C;\n",
              "      box-shadow: 0px 1px 3px 1px rgba(0, 0, 0, 0.15);\n",
              "      filter: drop-shadow(0px 1px 2px rgba(0, 0, 0, 0.3));\n",
              "      fill: #FFFFFF;\n",
              "    }\n",
              "  </style>\n",
              "\n",
              "    <script>\n",
              "      const buttonEl =\n",
              "        document.querySelector('#df-c571aa55-4699-4825-9c15-a463792c8c99 button.colab-df-convert');\n",
              "      buttonEl.style.display =\n",
              "        google.colab.kernel.accessAllowed ? 'block' : 'none';\n",
              "\n",
              "      async function convertToInteractive(key) {\n",
              "        const element = document.querySelector('#df-c571aa55-4699-4825-9c15-a463792c8c99');\n",
              "        const dataTable =\n",
              "          await google.colab.kernel.invokeFunction('convertToInteractive',\n",
              "                                                    [key], {});\n",
              "        if (!dataTable) return;\n",
              "\n",
              "        const docLinkHtml = 'Like what you see? Visit the ' +\n",
              "          '<a target=\"_blank\" href=https://colab.research.google.com/notebooks/data_table.ipynb>data table notebook</a>'\n",
              "          + ' to learn more about interactive tables.';\n",
              "        element.innerHTML = '';\n",
              "        dataTable['output_type'] = 'display_data';\n",
              "        await google.colab.output.renderOutput(dataTable, element);\n",
              "        const docLink = document.createElement('div');\n",
              "        docLink.innerHTML = docLinkHtml;\n",
              "        element.appendChild(docLink);\n",
              "      }\n",
              "    </script>\n",
              "  </div>\n",
              "\n",
              "\n",
              "<div id=\"df-dadb6ffe-9714-46d8-94c0-15c885a88026\">\n",
              "  <button class=\"colab-df-quickchart\" onclick=\"quickchart('df-dadb6ffe-9714-46d8-94c0-15c885a88026')\"\n",
              "            title=\"Suggest charts.\"\n",
              "            style=\"display:none;\">\n",
              "\n",
              "<svg xmlns=\"http://www.w3.org/2000/svg\" height=\"24px\"viewBox=\"0 0 24 24\"\n",
              "     width=\"24px\">\n",
              "    <g>\n",
              "        <path d=\"M19 3H5c-1.1 0-2 .9-2 2v14c0 1.1.9 2 2 2h14c1.1 0 2-.9 2-2V5c0-1.1-.9-2-2-2zM9 17H7v-7h2v7zm4 0h-2V7h2v10zm4 0h-2v-4h2v4z\"/>\n",
              "    </g>\n",
              "</svg>\n",
              "  </button>\n",
              "\n",
              "<style>\n",
              "  .colab-df-quickchart {\n",
              "      --bg-color: #E8F0FE;\n",
              "      --fill-color: #1967D2;\n",
              "      --hover-bg-color: #E2EBFA;\n",
              "      --hover-fill-color: #174EA6;\n",
              "      --disabled-fill-color: #AAA;\n",
              "      --disabled-bg-color: #DDD;\n",
              "  }\n",
              "\n",
              "  [theme=dark] .colab-df-quickchart {\n",
              "      --bg-color: #3B4455;\n",
              "      --fill-color: #D2E3FC;\n",
              "      --hover-bg-color: #434B5C;\n",
              "      --hover-fill-color: #FFFFFF;\n",
              "      --disabled-bg-color: #3B4455;\n",
              "      --disabled-fill-color: #666;\n",
              "  }\n",
              "\n",
              "  .colab-df-quickchart {\n",
              "    background-color: var(--bg-color);\n",
              "    border: none;\n",
              "    border-radius: 50%;\n",
              "    cursor: pointer;\n",
              "    display: none;\n",
              "    fill: var(--fill-color);\n",
              "    height: 32px;\n",
              "    padding: 0;\n",
              "    width: 32px;\n",
              "  }\n",
              "\n",
              "  .colab-df-quickchart:hover {\n",
              "    background-color: var(--hover-bg-color);\n",
              "    box-shadow: 0 1px 2px rgba(60, 64, 67, 0.3), 0 1px 3px 1px rgba(60, 64, 67, 0.15);\n",
              "    fill: var(--button-hover-fill-color);\n",
              "  }\n",
              "\n",
              "  .colab-df-quickchart-complete:disabled,\n",
              "  .colab-df-quickchart-complete:disabled:hover {\n",
              "    background-color: var(--disabled-bg-color);\n",
              "    fill: var(--disabled-fill-color);\n",
              "    box-shadow: none;\n",
              "  }\n",
              "\n",
              "  .colab-df-spinner {\n",
              "    border: 2px solid var(--fill-color);\n",
              "    border-color: transparent;\n",
              "    border-bottom-color: var(--fill-color);\n",
              "    animation:\n",
              "      spin 1s steps(1) infinite;\n",
              "  }\n",
              "\n",
              "  @keyframes spin {\n",
              "    0% {\n",
              "      border-color: transparent;\n",
              "      border-bottom-color: var(--fill-color);\n",
              "      border-left-color: var(--fill-color);\n",
              "    }\n",
              "    20% {\n",
              "      border-color: transparent;\n",
              "      border-left-color: var(--fill-color);\n",
              "      border-top-color: var(--fill-color);\n",
              "    }\n",
              "    30% {\n",
              "      border-color: transparent;\n",
              "      border-left-color: var(--fill-color);\n",
              "      border-top-color: var(--fill-color);\n",
              "      border-right-color: var(--fill-color);\n",
              "    }\n",
              "    40% {\n",
              "      border-color: transparent;\n",
              "      border-right-color: var(--fill-color);\n",
              "      border-top-color: var(--fill-color);\n",
              "    }\n",
              "    60% {\n",
              "      border-color: transparent;\n",
              "      border-right-color: var(--fill-color);\n",
              "    }\n",
              "    80% {\n",
              "      border-color: transparent;\n",
              "      border-right-color: var(--fill-color);\n",
              "      border-bottom-color: var(--fill-color);\n",
              "    }\n",
              "    90% {\n",
              "      border-color: transparent;\n",
              "      border-bottom-color: var(--fill-color);\n",
              "    }\n",
              "  }\n",
              "</style>\n",
              "\n",
              "  <script>\n",
              "    async function quickchart(key) {\n",
              "      const quickchartButtonEl =\n",
              "        document.querySelector('#' + key + ' button');\n",
              "      quickchartButtonEl.disabled = true;  // To prevent multiple clicks.\n",
              "      quickchartButtonEl.classList.add('colab-df-spinner');\n",
              "      try {\n",
              "        const charts = await google.colab.kernel.invokeFunction(\n",
              "            'suggestCharts', [key], {});\n",
              "      } catch (error) {\n",
              "        console.error('Error during call to suggestCharts:', error);\n",
              "      }\n",
              "      quickchartButtonEl.classList.remove('colab-df-spinner');\n",
              "      quickchartButtonEl.classList.add('colab-df-quickchart-complete');\n",
              "    }\n",
              "    (() => {\n",
              "      let quickchartButtonEl =\n",
              "        document.querySelector('#df-dadb6ffe-9714-46d8-94c0-15c885a88026 button');\n",
              "      quickchartButtonEl.style.display =\n",
              "        google.colab.kernel.accessAllowed ? 'block' : 'none';\n",
              "    })();\n",
              "  </script>\n",
              "</div>\n",
              "    </div>\n",
              "  </div>\n"
            ]
          },
          "metadata": {},
          "execution_count": 21
        }
      ]
    },
    {
      "cell_type": "code",
      "source": [
        "sample_submission.to_csv(path+'v1.csv', index=False)"
      ],
      "metadata": {
        "id": "zFpTZ7H2XF4E"
      },
      "execution_count": 22,
      "outputs": []
    },
    {
      "cell_type": "markdown",
      "source": [
        "# Guardamos la NN"
      ],
      "metadata": {
        "id": "fe6SbGFjYL0F"
      }
    },
    {
      "cell_type": "code",
      "source": [
        "model.save(path+'v1.keras')"
      ],
      "metadata": {
        "id": "ksXFFmhQYO42"
      },
      "execution_count": 23,
      "outputs": []
    }
  ],
  "metadata": {
    "kernelspec": {
      "display_name": "Python 3",
      "name": "python3"
    },
    "language_info": {
      "codemirror_mode": {
        "name": "ipython",
        "version": 3
      },
      "file_extension": ".py",
      "mimetype": "text/x-python",
      "name": "python",
      "nbconvert_exporter": "python",
      "pygments_lexer": "ipython3",
      "version": "3.11.4"
    },
    "colab": {
      "provenance": [],
      "collapsed_sections": [
        "bbKmwOCq_JpD"
      ],
      "gpuType": "T4",
      "include_colab_link": true
    },
    "accelerator": "GPU"
  },
  "nbformat": 4,
  "nbformat_minor": 0
}