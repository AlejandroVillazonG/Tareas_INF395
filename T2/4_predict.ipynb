{
  "cells": [
    {
      "cell_type": "markdown",
      "metadata": {
        "id": "view-in-github",
        "colab_type": "text"
      },
      "source": [
        "<a href=\"https://colab.research.google.com/github/AlejandroVillazonG/Tareas_INF395/blob/main/T2/4_predict.ipynb\" target=\"_parent\"><img src=\"https://colab.research.google.com/assets/colab-badge.svg\" alt=\"Open In Colab\"/></a>"
      ]
    },
    {
      "cell_type": "markdown",
      "metadata": {
        "id": "y7m720kEWTx_"
      },
      "source": [
        "<center><img src=\"https://www.inf.utfsm.cl/images/slides/Departamento-de-Informtica_HORIZONTAL.png\" title=\"Title text\" width= 800 /></center>\n",
        "<hr style=\"height:2px;border:none\"/>\n",
        "<H1 align='center'> DESAFÍO TAREA 2</H1>\n",
        "\n",
        "<H3 align='center'> INF395 2023-2 </H3>\n",
        "<hr style=\"height:2px;border:none\"/>\n",
        "\n",
        "## Integrantes:\n",
        "* Joaquín Aguirre (201910031-9)\n",
        "* Alejandro Villazón (201910009-2)\n",
        "* Dominique Yessouroun (201910005-K)"
      ]
    },
    {
      "cell_type": "markdown",
      "metadata": {
        "id": "NvdBh0hkWTyO"
      },
      "source": [
        "Importamos las librerías necesarias:"
      ]
    },
    {
      "cell_type": "code",
      "execution_count": 1,
      "metadata": {
        "id": "WSGUBsGfWTyP"
      },
      "outputs": [],
      "source": [
        "import numpy as np\n",
        "import pandas as pd\n",
        "import seaborn as sns\n",
        "import matplotlib.pyplot as plt\n",
        "\n",
        "from sklearn.model_selection import train_test_split\n",
        "\n",
        "import os\n",
        "import json\n",
        "from sklearn.preprocessing import StandardScaler\n",
        "\n",
        "import tensorflow as tf\n",
        "from tensorflow import keras\n",
        "from tensorflow.keras import layers\n",
        "from tensorflow.keras.applications import ResNet50\n",
        "\n",
        "import warnings\n",
        "# Ignorar las advertencias\n",
        "warnings.filterwarnings(\"ignore\")"
      ]
    },
    {
      "cell_type": "markdown",
      "source": [
        "Definimos funciones auxiliares:"
      ],
      "metadata": {
        "id": "VmhHidYnW8bI"
      }
    },
    {
      "cell_type": "code",
      "source": [
        "def preprocess_image(main_path, path_image, image_size):\n",
        "    image = keras.utils.load_img(main_path + path_image)\n",
        "    image = image.resize((image_size, image_size))\n",
        "    return keras.utils.img_to_array(image, dtype='uint8')\n",
        "\n",
        "def preprocess_train_test_set(main_path, paths, image_size):\n",
        "    return np.array([preprocess_image(main_path, path_image, image_size) for path_image in paths])"
      ],
      "metadata": {
        "id": "QTZzndTLW_Ju"
      },
      "execution_count": 2,
      "outputs": []
    },
    {
      "cell_type": "code",
      "source": [
        "def create_macro_f1(y_true, y_pred, num_classes):\n",
        "    \"\"\"\n",
        "    Calcula el Macro F1-Score.\n",
        "    \"\"\"\n",
        "    y_pred = tf.one_hot(tf.argmax(y_pred, axis=1), depth=num_classes)\n",
        "\n",
        "    tp = tf.cast(tf.math.count_nonzero(y_pred * y_true, axis=1), tf.float32)\n",
        "    fp = tf.cast(tf.math.count_nonzero(y_pred * (1-y_true), axis=1), tf.float32)\n",
        "    fn = tf.cast(tf.math.count_nonzero((1-y_pred) * y_true, axis=1), tf.float32)\n",
        "\n",
        "    precision = tp / (tp + fp)\n",
        "    recall = tp / (tp + fn)\n",
        "\n",
        "    f1 = 2*precision*recall / (precision + recall)\n",
        "    f1 = tf.where(tf.math.is_nan(f1), tf.zeros_like(f1), f1)\n",
        "\n",
        "    return tf.reduce_mean(f1)\n",
        "\n",
        "def transform_dishes(original_dishes, mapping_dishes, category_mapping):\n",
        "    transformed_dishes = {}\n",
        "    for original_key, dish in original_dishes.items():\n",
        "        for category_key, category_value in category_mapping.items():\n",
        "            if dish in mapping_dishes[category_value].values():\n",
        "                # Encontrar la clave interna dentro del diccionario de categoría\n",
        "                internal_key = [int(k) for k, v in mapping_dishes[category_value].items() if v == dish][0]\n",
        "                # Convertir la clave original a int para guardarla en el resultado\n",
        "                original_key_int = int(original_key)\n",
        "                # Asegurar que la categoría exista en el diccionario resultante\n",
        "                if category_key not in transformed_dishes:\n",
        "                    transformed_dishes[category_key] = {}\n",
        "                # Agregar el mapeo al diccionario resultante\n",
        "                transformed_dishes[category_key][original_key_int] = internal_key\n",
        "    return transformed_dishes\n",
        "\n",
        "def create_model(image_size, num_classes):\n",
        "  cnn_model = ResNet50(weights='imagenet', include_top=False, input_shape=(image_size, image_size, 3))\n",
        "  for layer in cnn_model.layers:\n",
        "      layer.trainable = False\n",
        "  model = keras.Sequential([\n",
        "      cnn_model,\n",
        "      layers.Conv2D(512, 2, activation='relu'),\n",
        "      layers.Flatten(),\n",
        "      layers.Dense(128, activation='relu'),\n",
        "      layers.Dropout(0.5),\n",
        "      layers.Dense(num_classes, activation='softmax')\n",
        "  ])\n",
        "  def macro_f1(y_true, y_pred):\n",
        "    return create_macro_f1(y_true, y_pred, num_classes)\n",
        "\n",
        "  model.compile(optimizer=keras.optimizers.AdamW(),\n",
        "                loss=['categorical_crossentropy'],\n",
        "                metrics=[macro_f1])\n",
        "  return model"
      ],
      "metadata": {
        "id": "YNdBJwNSXCTP"
      },
      "execution_count": 3,
      "outputs": []
    },
    {
      "cell_type": "code",
      "source": [
        "E_S = keras.callbacks.EarlyStopping(monitor='val_macro_f1', mode='max',\n",
        "                                    patience=10, restore_best_weights=True)"
      ],
      "metadata": {
        "id": "5LAyfQYRhxNX"
      },
      "execution_count": 4,
      "outputs": []
    },
    {
      "cell_type": "markdown",
      "source": [
        "Nos conectamos al drive:"
      ],
      "metadata": {
        "id": "9oYVGuIYXjFh"
      }
    },
    {
      "cell_type": "code",
      "source": [
        "from google.colab import drive\n",
        "drive.mount('/content/drive')"
      ],
      "metadata": {
        "colab": {
          "base_uri": "https://localhost:8080/"
        },
        "id": "2M2A0Nv4WlFv",
        "outputId": "08ee0b7d-ef80-4934-f4c6-72aaff656557"
      },
      "execution_count": 5,
      "outputs": [
        {
          "output_type": "stream",
          "name": "stdout",
          "text": [
            "Mounted at /content/drive\n"
          ]
        }
      ]
    },
    {
      "cell_type": "code",
      "execution_count": 6,
      "metadata": {
        "id": "dHG0rtlsWTyW"
      },
      "outputs": [],
      "source": [
        "path = '/content/drive/MyDrive/INF395/T2/'"
      ]
    },
    {
      "cell_type": "markdown",
      "source": [
        "## Preprocesar imágenes"
      ],
      "metadata": {
        "id": "bbKmwOCq_JpD"
      }
    },
    {
      "cell_type": "code",
      "source": [
        "!unzip '{path}inf-395-tarea-2.zip' > /dev/null"
      ],
      "metadata": {
        "id": "zt_ZZPNcZL38"
      },
      "execution_count": 7,
      "outputs": []
    },
    {
      "cell_type": "code",
      "source": [
        "main_path = '/content/'"
      ],
      "metadata": {
        "id": "1O7Z94t3bYFZ"
      },
      "execution_count": 8,
      "outputs": []
    },
    {
      "cell_type": "markdown",
      "source": [
        "Definimos el tamaño que tendran las imágenes."
      ],
      "metadata": {
        "id": "htXL2965XsJ0"
      }
    },
    {
      "cell_type": "code",
      "source": [
        "image_size = 225"
      ],
      "metadata": {
        "id": "nSTfTrD3fegL"
      },
      "execution_count": 9,
      "outputs": []
    },
    {
      "cell_type": "code",
      "source": [
        "df_test = pd.read_csv(main_path+'test.csv')"
      ],
      "metadata": {
        "id": "B9d-tDuCbMJL"
      },
      "execution_count": 10,
      "outputs": []
    },
    {
      "cell_type": "code",
      "source": [
        "%%time\n",
        "X_test = preprocess_train_test_set(main_path, df_test['path'], image_size)"
      ],
      "metadata": {
        "id": "YaPZqGwBbIXL",
        "colab": {
          "base_uri": "https://localhost:8080/"
        },
        "outputId": "831c29a6-305f-4cd3-e0eb-e3e0375377c1"
      },
      "execution_count": 11,
      "outputs": [
        {
          "output_type": "stream",
          "name": "stdout",
          "text": [
            "CPU times: user 2min 1s, sys: 4.54 s, total: 2min 5s\n",
            "Wall time: 2min 5s\n"
          ]
        }
      ]
    },
    {
      "cell_type": "markdown",
      "source": [
        "# Cargamos las NNs previamente entrenadas"
      ],
      "metadata": {
        "id": "btHXI_oo32g3"
      }
    },
    {
      "cell_type": "markdown",
      "source": [
        "NN superclases"
      ],
      "metadata": {
        "id": "0xpvdzJb36CU"
      }
    },
    {
      "cell_type": "code",
      "source": [
        "model_super = keras.models.load_model(path+'NNs/NN_superclases.keras',\n",
        "                                      custom_objects={'macro_f1': lambda y_true, y_pred: create_macro_f1(y_true, y_pred, 3)})"
      ],
      "metadata": {
        "id": "lPH6DFdDU_Ur"
      },
      "execution_count": 12,
      "outputs": []
    },
    {
      "cell_type": "markdown",
      "source": [
        "## NN subclases"
      ],
      "metadata": {
        "id": "WwBITKVl38V8"
      }
    },
    {
      "cell_type": "code",
      "source": [
        "with open(path + \"hierarchy_dict.json\", \"r\") as archivo:\n",
        "    hierarchy_dict = json.load(archivo)\n",
        "\n",
        "with open(path + \"food_categories_dict.json\", \"r\") as archivo:\n",
        "    food_categories_dict = json.load(archivo)\n",
        "\n",
        "with open(path + \"dish_dict.json\", \"r\") as archivo:\n",
        "    dish_dict = json.load(archivo)"
      ],
      "metadata": {
        "id": "yHT3oS7nOw18"
      },
      "execution_count": 13,
      "outputs": []
    },
    {
      "cell_type": "code",
      "source": [
        "transformed_dishes = transform_dishes(dish_dict, hierarchy_dict, food_categories_dict)\n",
        "\n",
        "inverse_transformed_dishes = {}\n",
        "\n",
        "for superclase, dictt in transformed_dishes.items():\n",
        "  inverse_transformed_dishes[superclase] = {value: key for key, value in dictt.items()}"
      ],
      "metadata": {
        "id": "_f2Q9crkPOrI"
      },
      "execution_count": 14,
      "outputs": []
    },
    {
      "cell_type": "markdown",
      "source": [
        "Superclase 0"
      ],
      "metadata": {
        "id": "KjOEQJk63-wi"
      }
    },
    {
      "cell_type": "code",
      "source": [
        "superclase = 0\n",
        "n_subclasses = len(transformed_dishes[str(superclase)])\n",
        "\n",
        "model_sub_0 = keras.models.load_model(path+f'NNs/NN_subclases_{superclase}.keras',\n",
        "                                      custom_objects={'macro_f1': lambda y_true, y_pred: create_macro_f1(y_true, y_pred, n_subclasses)})"
      ],
      "metadata": {
        "id": "5b9pOXvZ31Jc"
      },
      "execution_count": 15,
      "outputs": []
    },
    {
      "cell_type": "markdown",
      "source": [
        "Superclase 1"
      ],
      "metadata": {
        "id": "OicdxYAc4Ae3"
      }
    },
    {
      "cell_type": "code",
      "source": [
        "superclase = 1\n",
        "n_subclasses = len(transformed_dishes[str(superclase)])\n",
        "\n",
        "model_sub_1 = keras.models.load_model(path+f'NNs/NN_subclases_{superclase}.keras',\n",
        "                                      custom_objects={'macro_f1': lambda y_true, y_pred: create_macro_f1(y_true, y_pred, n_subclasses)})"
      ],
      "metadata": {
        "id": "rbWvBxwV4Ae3"
      },
      "execution_count": 16,
      "outputs": []
    },
    {
      "cell_type": "markdown",
      "source": [
        "Superclase 2"
      ],
      "metadata": {
        "id": "fY2aL6kU4Ayc"
      }
    },
    {
      "cell_type": "code",
      "source": [
        "superclase = 2\n",
        "n_subclasses = len(transformed_dishes[str(superclase)])\n",
        "\n",
        "model_sub_2 = keras.models.load_model(path+f'NNs/NN_subclases_{superclase}.keras',\n",
        "                                      custom_objects={'macro_f1': lambda y_true, y_pred: create_macro_f1(y_true, y_pred, n_subclasses)})"
      ],
      "metadata": {
        "id": "3sRQYoRg4Ayc"
      },
      "execution_count": 17,
      "outputs": []
    },
    {
      "cell_type": "code",
      "source": [
        "%%time\n",
        "super_clases = np.argmax(model_super.predict(X_test, verbose=0), axis=1)"
      ],
      "metadata": {
        "colab": {
          "base_uri": "https://localhost:8080/"
        },
        "id": "TnCzjwl6JmCH",
        "outputId": "215b8cac-2bc5-430c-9ee3-5571f90e8ecf"
      },
      "execution_count": 18,
      "outputs": [
        {
          "output_type": "stream",
          "name": "stdout",
          "text": [
            "CPU times: user 36 s, sys: 5.99 s, total: 42 s\n",
            "Wall time: 44.1 s\n"
          ]
        }
      ]
    },
    {
      "cell_type": "code",
      "source": [
        "%%time\n",
        "\n",
        "y_pred=[]\n",
        "\n",
        "for i, super_clase in enumerate(super_clases):\n",
        "  image = np.expand_dims(X_test[i], axis=0) # (225,225,3) -> (1,225,225,3)\n",
        "  if super_clase == 0:\n",
        "    sub_clase = np.argmax(model_sub_0.predict(image, verbose=0))\n",
        "  elif super_clase == 1:\n",
        "    sub_clase = np.argmax(model_sub_1.predict(image, verbose=0))\n",
        "  else:\n",
        "    sub_clase = np.argmax(model_sub_2.predict(image, verbose=0))\n",
        "\n",
        "  sub_clase = inverse_transformed_dishes[str(super_clase)][sub_clase]\n",
        "\n",
        "  y_pred.append(f'{super_clase} {sub_clase}')"
      ],
      "metadata": {
        "colab": {
          "base_uri": "https://localhost:8080/"
        },
        "id": "hWbTEwH1JzHt",
        "outputId": "8ec9a26a-ae32-454c-ca0c-2f3ec6280e3c"
      },
      "execution_count": 19,
      "outputs": [
        {
          "output_type": "stream",
          "name": "stdout",
          "text": [
            "CPU times: user 26min 41s, sys: 1min 3s, total: 27min 45s\n",
            "Wall time: 26min 24s\n"
          ]
        }
      ]
    },
    {
      "cell_type": "code",
      "source": [
        "sample_submission = pd.read_csv(main_path+'sample_submission.csv')"
      ],
      "metadata": {
        "id": "ZJUjexUYVdK-"
      },
      "execution_count": 20,
      "outputs": []
    },
    {
      "cell_type": "code",
      "source": [
        "sample_submission"
      ],
      "metadata": {
        "colab": {
          "base_uri": "https://localhost:8080/",
          "height": 423
        },
        "id": "WKOI5AmNVimn",
        "outputId": "cf2a431b-85b2-4ab2-f3a2-c379c9c06917"
      },
      "execution_count": 21,
      "outputs": [
        {
          "output_type": "execute_result",
          "data": {
            "text/plain": [
              "                                  path classes\n",
              "0      images/caprese_salad/820512.jpg     0 0\n",
              "1         images/hamburger/2062556.jpg     0 0\n",
              "2           images/lasagna/2381454.jpg     0 0\n",
              "3              images/ceviche/1995.jpg     0 0\n",
              "4            images/poutine/892377.jpg     0 0\n",
              "...                                ...     ...\n",
              "25245       images/ravioli/2087725.jpg     0 0\n",
              "25246      images/ice_cream/504131.jpg     0 0\n",
              "25247       images/cannoli/1187751.jpg     0 0\n",
              "25248       images/pancakes/477236.jpg     0 0\n",
              "25249  images/seaweed_salad/954189.jpg     0 0\n",
              "\n",
              "[25250 rows x 2 columns]"
            ],
            "text/html": [
              "\n",
              "  <div id=\"df-3546ea74-61e2-4e91-bc31-25a7702a55be\" class=\"colab-df-container\">\n",
              "    <div>\n",
              "<style scoped>\n",
              "    .dataframe tbody tr th:only-of-type {\n",
              "        vertical-align: middle;\n",
              "    }\n",
              "\n",
              "    .dataframe tbody tr th {\n",
              "        vertical-align: top;\n",
              "    }\n",
              "\n",
              "    .dataframe thead th {\n",
              "        text-align: right;\n",
              "    }\n",
              "</style>\n",
              "<table border=\"1\" class=\"dataframe\">\n",
              "  <thead>\n",
              "    <tr style=\"text-align: right;\">\n",
              "      <th></th>\n",
              "      <th>path</th>\n",
              "      <th>classes</th>\n",
              "    </tr>\n",
              "  </thead>\n",
              "  <tbody>\n",
              "    <tr>\n",
              "      <th>0</th>\n",
              "      <td>images/caprese_salad/820512.jpg</td>\n",
              "      <td>0 0</td>\n",
              "    </tr>\n",
              "    <tr>\n",
              "      <th>1</th>\n",
              "      <td>images/hamburger/2062556.jpg</td>\n",
              "      <td>0 0</td>\n",
              "    </tr>\n",
              "    <tr>\n",
              "      <th>2</th>\n",
              "      <td>images/lasagna/2381454.jpg</td>\n",
              "      <td>0 0</td>\n",
              "    </tr>\n",
              "    <tr>\n",
              "      <th>3</th>\n",
              "      <td>images/ceviche/1995.jpg</td>\n",
              "      <td>0 0</td>\n",
              "    </tr>\n",
              "    <tr>\n",
              "      <th>4</th>\n",
              "      <td>images/poutine/892377.jpg</td>\n",
              "      <td>0 0</td>\n",
              "    </tr>\n",
              "    <tr>\n",
              "      <th>...</th>\n",
              "      <td>...</td>\n",
              "      <td>...</td>\n",
              "    </tr>\n",
              "    <tr>\n",
              "      <th>25245</th>\n",
              "      <td>images/ravioli/2087725.jpg</td>\n",
              "      <td>0 0</td>\n",
              "    </tr>\n",
              "    <tr>\n",
              "      <th>25246</th>\n",
              "      <td>images/ice_cream/504131.jpg</td>\n",
              "      <td>0 0</td>\n",
              "    </tr>\n",
              "    <tr>\n",
              "      <th>25247</th>\n",
              "      <td>images/cannoli/1187751.jpg</td>\n",
              "      <td>0 0</td>\n",
              "    </tr>\n",
              "    <tr>\n",
              "      <th>25248</th>\n",
              "      <td>images/pancakes/477236.jpg</td>\n",
              "      <td>0 0</td>\n",
              "    </tr>\n",
              "    <tr>\n",
              "      <th>25249</th>\n",
              "      <td>images/seaweed_salad/954189.jpg</td>\n",
              "      <td>0 0</td>\n",
              "    </tr>\n",
              "  </tbody>\n",
              "</table>\n",
              "<p>25250 rows × 2 columns</p>\n",
              "</div>\n",
              "    <div class=\"colab-df-buttons\">\n",
              "\n",
              "  <div class=\"colab-df-container\">\n",
              "    <button class=\"colab-df-convert\" onclick=\"convertToInteractive('df-3546ea74-61e2-4e91-bc31-25a7702a55be')\"\n",
              "            title=\"Convert this dataframe to an interactive table.\"\n",
              "            style=\"display:none;\">\n",
              "\n",
              "  <svg xmlns=\"http://www.w3.org/2000/svg\" height=\"24px\" viewBox=\"0 -960 960 960\">\n",
              "    <path d=\"M120-120v-720h720v720H120Zm60-500h600v-160H180v160Zm220 220h160v-160H400v160Zm0 220h160v-160H400v160ZM180-400h160v-160H180v160Zm440 0h160v-160H620v160ZM180-180h160v-160H180v160Zm440 0h160v-160H620v160Z\"/>\n",
              "  </svg>\n",
              "    </button>\n",
              "\n",
              "  <style>\n",
              "    .colab-df-container {\n",
              "      display:flex;\n",
              "      gap: 12px;\n",
              "    }\n",
              "\n",
              "    .colab-df-convert {\n",
              "      background-color: #E8F0FE;\n",
              "      border: none;\n",
              "      border-radius: 50%;\n",
              "      cursor: pointer;\n",
              "      display: none;\n",
              "      fill: #1967D2;\n",
              "      height: 32px;\n",
              "      padding: 0 0 0 0;\n",
              "      width: 32px;\n",
              "    }\n",
              "\n",
              "    .colab-df-convert:hover {\n",
              "      background-color: #E2EBFA;\n",
              "      box-shadow: 0px 1px 2px rgba(60, 64, 67, 0.3), 0px 1px 3px 1px rgba(60, 64, 67, 0.15);\n",
              "      fill: #174EA6;\n",
              "    }\n",
              "\n",
              "    .colab-df-buttons div {\n",
              "      margin-bottom: 4px;\n",
              "    }\n",
              "\n",
              "    [theme=dark] .colab-df-convert {\n",
              "      background-color: #3B4455;\n",
              "      fill: #D2E3FC;\n",
              "    }\n",
              "\n",
              "    [theme=dark] .colab-df-convert:hover {\n",
              "      background-color: #434B5C;\n",
              "      box-shadow: 0px 1px 3px 1px rgba(0, 0, 0, 0.15);\n",
              "      filter: drop-shadow(0px 1px 2px rgba(0, 0, 0, 0.3));\n",
              "      fill: #FFFFFF;\n",
              "    }\n",
              "  </style>\n",
              "\n",
              "    <script>\n",
              "      const buttonEl =\n",
              "        document.querySelector('#df-3546ea74-61e2-4e91-bc31-25a7702a55be button.colab-df-convert');\n",
              "      buttonEl.style.display =\n",
              "        google.colab.kernel.accessAllowed ? 'block' : 'none';\n",
              "\n",
              "      async function convertToInteractive(key) {\n",
              "        const element = document.querySelector('#df-3546ea74-61e2-4e91-bc31-25a7702a55be');\n",
              "        const dataTable =\n",
              "          await google.colab.kernel.invokeFunction('convertToInteractive',\n",
              "                                                    [key], {});\n",
              "        if (!dataTable) return;\n",
              "\n",
              "        const docLinkHtml = 'Like what you see? Visit the ' +\n",
              "          '<a target=\"_blank\" href=https://colab.research.google.com/notebooks/data_table.ipynb>data table notebook</a>'\n",
              "          + ' to learn more about interactive tables.';\n",
              "        element.innerHTML = '';\n",
              "        dataTable['output_type'] = 'display_data';\n",
              "        await google.colab.output.renderOutput(dataTable, element);\n",
              "        const docLink = document.createElement('div');\n",
              "        docLink.innerHTML = docLinkHtml;\n",
              "        element.appendChild(docLink);\n",
              "      }\n",
              "    </script>\n",
              "  </div>\n",
              "\n",
              "\n",
              "<div id=\"df-45291c86-11dd-4498-962f-20b0c3b4233c\">\n",
              "  <button class=\"colab-df-quickchart\" onclick=\"quickchart('df-45291c86-11dd-4498-962f-20b0c3b4233c')\"\n",
              "            title=\"Suggest charts.\"\n",
              "            style=\"display:none;\">\n",
              "\n",
              "<svg xmlns=\"http://www.w3.org/2000/svg\" height=\"24px\"viewBox=\"0 0 24 24\"\n",
              "     width=\"24px\">\n",
              "    <g>\n",
              "        <path d=\"M19 3H5c-1.1 0-2 .9-2 2v14c0 1.1.9 2 2 2h14c1.1 0 2-.9 2-2V5c0-1.1-.9-2-2-2zM9 17H7v-7h2v7zm4 0h-2V7h2v10zm4 0h-2v-4h2v4z\"/>\n",
              "    </g>\n",
              "</svg>\n",
              "  </button>\n",
              "\n",
              "<style>\n",
              "  .colab-df-quickchart {\n",
              "      --bg-color: #E8F0FE;\n",
              "      --fill-color: #1967D2;\n",
              "      --hover-bg-color: #E2EBFA;\n",
              "      --hover-fill-color: #174EA6;\n",
              "      --disabled-fill-color: #AAA;\n",
              "      --disabled-bg-color: #DDD;\n",
              "  }\n",
              "\n",
              "  [theme=dark] .colab-df-quickchart {\n",
              "      --bg-color: #3B4455;\n",
              "      --fill-color: #D2E3FC;\n",
              "      --hover-bg-color: #434B5C;\n",
              "      --hover-fill-color: #FFFFFF;\n",
              "      --disabled-bg-color: #3B4455;\n",
              "      --disabled-fill-color: #666;\n",
              "  }\n",
              "\n",
              "  .colab-df-quickchart {\n",
              "    background-color: var(--bg-color);\n",
              "    border: none;\n",
              "    border-radius: 50%;\n",
              "    cursor: pointer;\n",
              "    display: none;\n",
              "    fill: var(--fill-color);\n",
              "    height: 32px;\n",
              "    padding: 0;\n",
              "    width: 32px;\n",
              "  }\n",
              "\n",
              "  .colab-df-quickchart:hover {\n",
              "    background-color: var(--hover-bg-color);\n",
              "    box-shadow: 0 1px 2px rgba(60, 64, 67, 0.3), 0 1px 3px 1px rgba(60, 64, 67, 0.15);\n",
              "    fill: var(--button-hover-fill-color);\n",
              "  }\n",
              "\n",
              "  .colab-df-quickchart-complete:disabled,\n",
              "  .colab-df-quickchart-complete:disabled:hover {\n",
              "    background-color: var(--disabled-bg-color);\n",
              "    fill: var(--disabled-fill-color);\n",
              "    box-shadow: none;\n",
              "  }\n",
              "\n",
              "  .colab-df-spinner {\n",
              "    border: 2px solid var(--fill-color);\n",
              "    border-color: transparent;\n",
              "    border-bottom-color: var(--fill-color);\n",
              "    animation:\n",
              "      spin 1s steps(1) infinite;\n",
              "  }\n",
              "\n",
              "  @keyframes spin {\n",
              "    0% {\n",
              "      border-color: transparent;\n",
              "      border-bottom-color: var(--fill-color);\n",
              "      border-left-color: var(--fill-color);\n",
              "    }\n",
              "    20% {\n",
              "      border-color: transparent;\n",
              "      border-left-color: var(--fill-color);\n",
              "      border-top-color: var(--fill-color);\n",
              "    }\n",
              "    30% {\n",
              "      border-color: transparent;\n",
              "      border-left-color: var(--fill-color);\n",
              "      border-top-color: var(--fill-color);\n",
              "      border-right-color: var(--fill-color);\n",
              "    }\n",
              "    40% {\n",
              "      border-color: transparent;\n",
              "      border-right-color: var(--fill-color);\n",
              "      border-top-color: var(--fill-color);\n",
              "    }\n",
              "    60% {\n",
              "      border-color: transparent;\n",
              "      border-right-color: var(--fill-color);\n",
              "    }\n",
              "    80% {\n",
              "      border-color: transparent;\n",
              "      border-right-color: var(--fill-color);\n",
              "      border-bottom-color: var(--fill-color);\n",
              "    }\n",
              "    90% {\n",
              "      border-color: transparent;\n",
              "      border-bottom-color: var(--fill-color);\n",
              "    }\n",
              "  }\n",
              "</style>\n",
              "\n",
              "  <script>\n",
              "    async function quickchart(key) {\n",
              "      const quickchartButtonEl =\n",
              "        document.querySelector('#' + key + ' button');\n",
              "      quickchartButtonEl.disabled = true;  // To prevent multiple clicks.\n",
              "      quickchartButtonEl.classList.add('colab-df-spinner');\n",
              "      try {\n",
              "        const charts = await google.colab.kernel.invokeFunction(\n",
              "            'suggestCharts', [key], {});\n",
              "      } catch (error) {\n",
              "        console.error('Error during call to suggestCharts:', error);\n",
              "      }\n",
              "      quickchartButtonEl.classList.remove('colab-df-spinner');\n",
              "      quickchartButtonEl.classList.add('colab-df-quickchart-complete');\n",
              "    }\n",
              "    (() => {\n",
              "      let quickchartButtonEl =\n",
              "        document.querySelector('#df-45291c86-11dd-4498-962f-20b0c3b4233c button');\n",
              "      quickchartButtonEl.style.display =\n",
              "        google.colab.kernel.accessAllowed ? 'block' : 'none';\n",
              "    })();\n",
              "  </script>\n",
              "</div>\n",
              "    </div>\n",
              "  </div>\n"
            ]
          },
          "metadata": {},
          "execution_count": 21
        }
      ]
    },
    {
      "cell_type": "code",
      "source": [
        "sample_submission['classes'] = y_pred"
      ],
      "metadata": {
        "id": "S1qzwW4WlNg-"
      },
      "execution_count": 22,
      "outputs": []
    },
    {
      "cell_type": "code",
      "source": [
        "sample_submission"
      ],
      "metadata": {
        "colab": {
          "base_uri": "https://localhost:8080/",
          "height": 423
        },
        "id": "Oe3s132qC2qt",
        "outputId": "2dd9c699-1e67-41d8-be90-c8404ca6440a"
      },
      "execution_count": 23,
      "outputs": [
        {
          "output_type": "execute_result",
          "data": {
            "text/plain": [
              "                                  path classes\n",
              "0      images/caprese_salad/820512.jpg    0 94\n",
              "1         images/hamburger/2062556.jpg    2 48\n",
              "2           images/lasagna/2381454.jpg    2 86\n",
              "3              images/ceviche/1995.jpg    1 50\n",
              "4            images/poutine/892377.jpg    2 27\n",
              "...                                ...     ...\n",
              "25245       images/ravioli/2087725.jpg    1 97\n",
              "25246      images/ice_cream/504131.jpg    1 55\n",
              "25247       images/cannoli/1187751.jpg    1 57\n",
              "25248       images/pancakes/477236.jpg    1 56\n",
              "25249  images/seaweed_salad/954189.jpg    0 11\n",
              "\n",
              "[25250 rows x 2 columns]"
            ],
            "text/html": [
              "\n",
              "  <div id=\"df-7c6010df-b993-4555-9810-a6df8e821a6f\" class=\"colab-df-container\">\n",
              "    <div>\n",
              "<style scoped>\n",
              "    .dataframe tbody tr th:only-of-type {\n",
              "        vertical-align: middle;\n",
              "    }\n",
              "\n",
              "    .dataframe tbody tr th {\n",
              "        vertical-align: top;\n",
              "    }\n",
              "\n",
              "    .dataframe thead th {\n",
              "        text-align: right;\n",
              "    }\n",
              "</style>\n",
              "<table border=\"1\" class=\"dataframe\">\n",
              "  <thead>\n",
              "    <tr style=\"text-align: right;\">\n",
              "      <th></th>\n",
              "      <th>path</th>\n",
              "      <th>classes</th>\n",
              "    </tr>\n",
              "  </thead>\n",
              "  <tbody>\n",
              "    <tr>\n",
              "      <th>0</th>\n",
              "      <td>images/caprese_salad/820512.jpg</td>\n",
              "      <td>0 94</td>\n",
              "    </tr>\n",
              "    <tr>\n",
              "      <th>1</th>\n",
              "      <td>images/hamburger/2062556.jpg</td>\n",
              "      <td>2 48</td>\n",
              "    </tr>\n",
              "    <tr>\n",
              "      <th>2</th>\n",
              "      <td>images/lasagna/2381454.jpg</td>\n",
              "      <td>2 86</td>\n",
              "    </tr>\n",
              "    <tr>\n",
              "      <th>3</th>\n",
              "      <td>images/ceviche/1995.jpg</td>\n",
              "      <td>1 50</td>\n",
              "    </tr>\n",
              "    <tr>\n",
              "      <th>4</th>\n",
              "      <td>images/poutine/892377.jpg</td>\n",
              "      <td>2 27</td>\n",
              "    </tr>\n",
              "    <tr>\n",
              "      <th>...</th>\n",
              "      <td>...</td>\n",
              "      <td>...</td>\n",
              "    </tr>\n",
              "    <tr>\n",
              "      <th>25245</th>\n",
              "      <td>images/ravioli/2087725.jpg</td>\n",
              "      <td>1 97</td>\n",
              "    </tr>\n",
              "    <tr>\n",
              "      <th>25246</th>\n",
              "      <td>images/ice_cream/504131.jpg</td>\n",
              "      <td>1 55</td>\n",
              "    </tr>\n",
              "    <tr>\n",
              "      <th>25247</th>\n",
              "      <td>images/cannoli/1187751.jpg</td>\n",
              "      <td>1 57</td>\n",
              "    </tr>\n",
              "    <tr>\n",
              "      <th>25248</th>\n",
              "      <td>images/pancakes/477236.jpg</td>\n",
              "      <td>1 56</td>\n",
              "    </tr>\n",
              "    <tr>\n",
              "      <th>25249</th>\n",
              "      <td>images/seaweed_salad/954189.jpg</td>\n",
              "      <td>0 11</td>\n",
              "    </tr>\n",
              "  </tbody>\n",
              "</table>\n",
              "<p>25250 rows × 2 columns</p>\n",
              "</div>\n",
              "    <div class=\"colab-df-buttons\">\n",
              "\n",
              "  <div class=\"colab-df-container\">\n",
              "    <button class=\"colab-df-convert\" onclick=\"convertToInteractive('df-7c6010df-b993-4555-9810-a6df8e821a6f')\"\n",
              "            title=\"Convert this dataframe to an interactive table.\"\n",
              "            style=\"display:none;\">\n",
              "\n",
              "  <svg xmlns=\"http://www.w3.org/2000/svg\" height=\"24px\" viewBox=\"0 -960 960 960\">\n",
              "    <path d=\"M120-120v-720h720v720H120Zm60-500h600v-160H180v160Zm220 220h160v-160H400v160Zm0 220h160v-160H400v160ZM180-400h160v-160H180v160Zm440 0h160v-160H620v160ZM180-180h160v-160H180v160Zm440 0h160v-160H620v160Z\"/>\n",
              "  </svg>\n",
              "    </button>\n",
              "\n",
              "  <style>\n",
              "    .colab-df-container {\n",
              "      display:flex;\n",
              "      gap: 12px;\n",
              "    }\n",
              "\n",
              "    .colab-df-convert {\n",
              "      background-color: #E8F0FE;\n",
              "      border: none;\n",
              "      border-radius: 50%;\n",
              "      cursor: pointer;\n",
              "      display: none;\n",
              "      fill: #1967D2;\n",
              "      height: 32px;\n",
              "      padding: 0 0 0 0;\n",
              "      width: 32px;\n",
              "    }\n",
              "\n",
              "    .colab-df-convert:hover {\n",
              "      background-color: #E2EBFA;\n",
              "      box-shadow: 0px 1px 2px rgba(60, 64, 67, 0.3), 0px 1px 3px 1px rgba(60, 64, 67, 0.15);\n",
              "      fill: #174EA6;\n",
              "    }\n",
              "\n",
              "    .colab-df-buttons div {\n",
              "      margin-bottom: 4px;\n",
              "    }\n",
              "\n",
              "    [theme=dark] .colab-df-convert {\n",
              "      background-color: #3B4455;\n",
              "      fill: #D2E3FC;\n",
              "    }\n",
              "\n",
              "    [theme=dark] .colab-df-convert:hover {\n",
              "      background-color: #434B5C;\n",
              "      box-shadow: 0px 1px 3px 1px rgba(0, 0, 0, 0.15);\n",
              "      filter: drop-shadow(0px 1px 2px rgba(0, 0, 0, 0.3));\n",
              "      fill: #FFFFFF;\n",
              "    }\n",
              "  </style>\n",
              "\n",
              "    <script>\n",
              "      const buttonEl =\n",
              "        document.querySelector('#df-7c6010df-b993-4555-9810-a6df8e821a6f button.colab-df-convert');\n",
              "      buttonEl.style.display =\n",
              "        google.colab.kernel.accessAllowed ? 'block' : 'none';\n",
              "\n",
              "      async function convertToInteractive(key) {\n",
              "        const element = document.querySelector('#df-7c6010df-b993-4555-9810-a6df8e821a6f');\n",
              "        const dataTable =\n",
              "          await google.colab.kernel.invokeFunction('convertToInteractive',\n",
              "                                                    [key], {});\n",
              "        if (!dataTable) return;\n",
              "\n",
              "        const docLinkHtml = 'Like what you see? Visit the ' +\n",
              "          '<a target=\"_blank\" href=https://colab.research.google.com/notebooks/data_table.ipynb>data table notebook</a>'\n",
              "          + ' to learn more about interactive tables.';\n",
              "        element.innerHTML = '';\n",
              "        dataTable['output_type'] = 'display_data';\n",
              "        await google.colab.output.renderOutput(dataTable, element);\n",
              "        const docLink = document.createElement('div');\n",
              "        docLink.innerHTML = docLinkHtml;\n",
              "        element.appendChild(docLink);\n",
              "      }\n",
              "    </script>\n",
              "  </div>\n",
              "\n",
              "\n",
              "<div id=\"df-38528424-d962-47e4-bff2-d895cfbff9a7\">\n",
              "  <button class=\"colab-df-quickchart\" onclick=\"quickchart('df-38528424-d962-47e4-bff2-d895cfbff9a7')\"\n",
              "            title=\"Suggest charts.\"\n",
              "            style=\"display:none;\">\n",
              "\n",
              "<svg xmlns=\"http://www.w3.org/2000/svg\" height=\"24px\"viewBox=\"0 0 24 24\"\n",
              "     width=\"24px\">\n",
              "    <g>\n",
              "        <path d=\"M19 3H5c-1.1 0-2 .9-2 2v14c0 1.1.9 2 2 2h14c1.1 0 2-.9 2-2V5c0-1.1-.9-2-2-2zM9 17H7v-7h2v7zm4 0h-2V7h2v10zm4 0h-2v-4h2v4z\"/>\n",
              "    </g>\n",
              "</svg>\n",
              "  </button>\n",
              "\n",
              "<style>\n",
              "  .colab-df-quickchart {\n",
              "      --bg-color: #E8F0FE;\n",
              "      --fill-color: #1967D2;\n",
              "      --hover-bg-color: #E2EBFA;\n",
              "      --hover-fill-color: #174EA6;\n",
              "      --disabled-fill-color: #AAA;\n",
              "      --disabled-bg-color: #DDD;\n",
              "  }\n",
              "\n",
              "  [theme=dark] .colab-df-quickchart {\n",
              "      --bg-color: #3B4455;\n",
              "      --fill-color: #D2E3FC;\n",
              "      --hover-bg-color: #434B5C;\n",
              "      --hover-fill-color: #FFFFFF;\n",
              "      --disabled-bg-color: #3B4455;\n",
              "      --disabled-fill-color: #666;\n",
              "  }\n",
              "\n",
              "  .colab-df-quickchart {\n",
              "    background-color: var(--bg-color);\n",
              "    border: none;\n",
              "    border-radius: 50%;\n",
              "    cursor: pointer;\n",
              "    display: none;\n",
              "    fill: var(--fill-color);\n",
              "    height: 32px;\n",
              "    padding: 0;\n",
              "    width: 32px;\n",
              "  }\n",
              "\n",
              "  .colab-df-quickchart:hover {\n",
              "    background-color: var(--hover-bg-color);\n",
              "    box-shadow: 0 1px 2px rgba(60, 64, 67, 0.3), 0 1px 3px 1px rgba(60, 64, 67, 0.15);\n",
              "    fill: var(--button-hover-fill-color);\n",
              "  }\n",
              "\n",
              "  .colab-df-quickchart-complete:disabled,\n",
              "  .colab-df-quickchart-complete:disabled:hover {\n",
              "    background-color: var(--disabled-bg-color);\n",
              "    fill: var(--disabled-fill-color);\n",
              "    box-shadow: none;\n",
              "  }\n",
              "\n",
              "  .colab-df-spinner {\n",
              "    border: 2px solid var(--fill-color);\n",
              "    border-color: transparent;\n",
              "    border-bottom-color: var(--fill-color);\n",
              "    animation:\n",
              "      spin 1s steps(1) infinite;\n",
              "  }\n",
              "\n",
              "  @keyframes spin {\n",
              "    0% {\n",
              "      border-color: transparent;\n",
              "      border-bottom-color: var(--fill-color);\n",
              "      border-left-color: var(--fill-color);\n",
              "    }\n",
              "    20% {\n",
              "      border-color: transparent;\n",
              "      border-left-color: var(--fill-color);\n",
              "      border-top-color: var(--fill-color);\n",
              "    }\n",
              "    30% {\n",
              "      border-color: transparent;\n",
              "      border-left-color: var(--fill-color);\n",
              "      border-top-color: var(--fill-color);\n",
              "      border-right-color: var(--fill-color);\n",
              "    }\n",
              "    40% {\n",
              "      border-color: transparent;\n",
              "      border-right-color: var(--fill-color);\n",
              "      border-top-color: var(--fill-color);\n",
              "    }\n",
              "    60% {\n",
              "      border-color: transparent;\n",
              "      border-right-color: var(--fill-color);\n",
              "    }\n",
              "    80% {\n",
              "      border-color: transparent;\n",
              "      border-right-color: var(--fill-color);\n",
              "      border-bottom-color: var(--fill-color);\n",
              "    }\n",
              "    90% {\n",
              "      border-color: transparent;\n",
              "      border-bottom-color: var(--fill-color);\n",
              "    }\n",
              "  }\n",
              "</style>\n",
              "\n",
              "  <script>\n",
              "    async function quickchart(key) {\n",
              "      const quickchartButtonEl =\n",
              "        document.querySelector('#' + key + ' button');\n",
              "      quickchartButtonEl.disabled = true;  // To prevent multiple clicks.\n",
              "      quickchartButtonEl.classList.add('colab-df-spinner');\n",
              "      try {\n",
              "        const charts = await google.colab.kernel.invokeFunction(\n",
              "            'suggestCharts', [key], {});\n",
              "      } catch (error) {\n",
              "        console.error('Error during call to suggestCharts:', error);\n",
              "      }\n",
              "      quickchartButtonEl.classList.remove('colab-df-spinner');\n",
              "      quickchartButtonEl.classList.add('colab-df-quickchart-complete');\n",
              "    }\n",
              "    (() => {\n",
              "      let quickchartButtonEl =\n",
              "        document.querySelector('#df-38528424-d962-47e4-bff2-d895cfbff9a7 button');\n",
              "      quickchartButtonEl.style.display =\n",
              "        google.colab.kernel.accessAllowed ? 'block' : 'none';\n",
              "    })();\n",
              "  </script>\n",
              "</div>\n",
              "    </div>\n",
              "  </div>\n"
            ]
          },
          "metadata": {},
          "execution_count": 23
        }
      ]
    },
    {
      "cell_type": "code",
      "source": [
        "sample_submission.to_csv(path+'v3.csv', index=False)"
      ],
      "metadata": {
        "id": "zFpTZ7H2XF4E"
      },
      "execution_count": 24,
      "outputs": []
    }
  ],
  "metadata": {
    "kernelspec": {
      "display_name": "Python 3",
      "name": "python3"
    },
    "language_info": {
      "codemirror_mode": {
        "name": "ipython",
        "version": 3
      },
      "file_extension": ".py",
      "mimetype": "text/x-python",
      "name": "python",
      "nbconvert_exporter": "python",
      "pygments_lexer": "ipython3",
      "version": "3.11.4"
    },
    "colab": {
      "provenance": [],
      "gpuType": "V100",
      "machine_shape": "hm",
      "include_colab_link": true
    },
    "accelerator": "GPU"
  },
  "nbformat": 4,
  "nbformat_minor": 0
}