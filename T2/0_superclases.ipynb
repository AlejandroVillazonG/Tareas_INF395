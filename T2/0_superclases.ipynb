{
  "cells": [
    {
      "cell_type": "markdown",
      "metadata": {
        "colab_type": "text",
        "id": "view-in-github"
      },
      "source": [
        "<a href=\"https://colab.research.google.com/github/AlejandroVillazonG/Tareas_INF395/blob/main/T2/0_superclases.ipynb\" target=\"_parent\"><img src=\"https://colab.research.google.com/assets/colab-badge.svg\" alt=\"Open In Colab\"/></a>"
      ]
    },
    {
      "cell_type": "markdown",
      "metadata": {
        "id": "y7m720kEWTx_"
      },
      "source": [
        "<center><img src=\"https://www.inf.utfsm.cl/images/slides/Departamento-de-Informtica_HORIZONTAL.png\" title=\"Title text\" width= 800 /></center>\n",
        "<hr style=\"height:2px;border:none\"/>\n",
        "<H1 align='center'> DESAFÍO TAREA 2</H1>\n",
        "\n",
        "<H3 align='center'> INF395 2023-2 </H3>\n",
        "<hr style=\"height:2px;border:none\"/>\n",
        "\n",
        "## Integrantes:\n",
        "* Joaquín Aguirre (201910031-9)\n",
        "* Alejandro Villazón (201910009-2)\n",
        "* Dominique Yessouroun (201910005-K)"
      ]
    },
    {
      "cell_type": "markdown",
      "metadata": {
        "id": "NvdBh0hkWTyO"
      },
      "source": [
        "Importamos las librerías necesarias:"
      ]
    },
    {
      "cell_type": "code",
      "execution_count": 1,
      "metadata": {
        "id": "WSGUBsGfWTyP"
      },
      "outputs": [],
      "source": [
        "import numpy as np\n",
        "import pandas as pd\n",
        "import seaborn as sns\n",
        "import matplotlib.pyplot as plt\n",
        "\n",
        "from sklearn.model_selection import train_test_split\n",
        "\n",
        "import os\n",
        "import json\n",
        "\n",
        "import tensorflow as tf\n",
        "from tensorflow import keras\n",
        "from tensorflow.keras import layers\n",
        "from tensorflow.keras.applications import ResNet50\n",
        "\n",
        "import warnings\n",
        "# Ignorar las advertencias\n",
        "warnings.filterwarnings(\"ignore\")"
      ]
    },
    {
      "cell_type": "markdown",
      "metadata": {
        "id": "VmhHidYnW8bI"
      },
      "source": [
        "Definimos funciones auxiliares:"
      ]
    },
    {
      "cell_type": "code",
      "execution_count": 2,
      "metadata": {
        "id": "QTZzndTLW_Ju"
      },
      "outputs": [],
      "source": [
        "def preprocess_image(main_path, path_image, image_size):\n",
        "    image = keras.utils.load_img(main_path + path_image)\n",
        "    image = image.resize((image_size, image_size))\n",
        "    return keras.utils.img_to_array(image, dtype='uint8')\n",
        "\n",
        "def preprocess_train_test_set(main_path, paths, image_size):\n",
        "    return np.array([preprocess_image(main_path, path_image, image_size) for path_image in paths])"
      ]
    },
    {
      "cell_type": "code",
      "execution_count": 3,
      "metadata": {
        "id": "YNdBJwNSXCTP"
      },
      "outputs": [],
      "source": [
        "def create_macro_f1(y_true, y_pred, num_classes):\n",
        "    \"\"\"\n",
        "    Calcula el Macro F1-Score.\n",
        "    \"\"\"\n",
        "    y_pred = tf.one_hot(tf.argmax(y_pred, axis=1), depth=num_classes)\n",
        "\n",
        "    tp = tf.cast(tf.math.count_nonzero(y_pred * y_true, axis=1), tf.float32)\n",
        "    fp = tf.cast(tf.math.count_nonzero(y_pred * (1-y_true), axis=1), tf.float32)\n",
        "    fn = tf.cast(tf.math.count_nonzero((1-y_pred) * y_true, axis=1), tf.float32)\n",
        "\n",
        "    precision = tp / (tp + fp)\n",
        "    recall = tp / (tp + fn)\n",
        "\n",
        "    f1 = 2*precision*recall / (precision + recall)\n",
        "    f1 = tf.where(tf.math.is_nan(f1), tf.zeros_like(f1), f1)\n",
        "\n",
        "    return tf.reduce_mean(f1)\n",
        "\n",
        "def transform_dishes(original_dishes, mapping_dishes, category_mapping):\n",
        "    transformed_dishes = {}\n",
        "    for original_key, dish in original_dishes.items():\n",
        "        for category_key, category_value in category_mapping.items():\n",
        "            if dish in mapping_dishes[category_value].values():\n",
        "                # Encontrar la clave interna dentro del diccionario de categoría\n",
        "                internal_key = [int(k) for k, v in mapping_dishes[category_value].items() if v == dish][0]\n",
        "                # Convertir la clave original a int para guardarla en el resultado\n",
        "                original_key_int = int(original_key)\n",
        "                # Asegurar que la categoría exista en el diccionario resultante\n",
        "                if category_key not in transformed_dishes:\n",
        "                    transformed_dishes[category_key] = {}\n",
        "                # Agregar el mapeo al diccionario resultante\n",
        "                transformed_dishes[category_key][original_key_int] = internal_key\n",
        "    return transformed_dishes\n",
        "\n",
        "def create_model(image_size, num_classes):\n",
        "  cnn_model = ResNet50(weights='imagenet', include_top=False, input_shape=(image_size, image_size, 3))\n",
        "  for layer in cnn_model.layers:\n",
        "      layer.trainable = False\n",
        "  model = keras.Sequential([\n",
        "      cnn_model,\n",
        "      layers.GlobalAveragePooling2D(), #\n",
        "      layers.Reshape((1, -1)), #\n",
        "      layers.LSTM(256), #\n",
        "      # layers.Conv2D(512, 2, activation='relu'),\n",
        "      layers.Flatten(),\n",
        "      layers.Dense(128, activation='relu'),\n",
        "      layers.Dropout(0.5),\n",
        "      layers.Dense(num_classes, activation='softmax')\n",
        "  ])\n",
        "  def macro_f1(y_true, y_pred):\n",
        "    return create_macro_f1(y_true, y_pred, num_classes)\n",
        "\n",
        "  model.compile(optimizer=keras.optimizers.AdamW(),\n",
        "                loss=['categorical_crossentropy'],\n",
        "                metrics=[macro_f1])\n",
        "  return model"
      ]
    },
    {
      "cell_type": "code",
      "execution_count": 4,
      "metadata": {
        "id": "5LAyfQYRhxNX"
      },
      "outputs": [],
      "source": [
        "E_S = keras.callbacks.EarlyStopping(monitor='val_macro_f1', mode='max',\n",
        "                                    patience=10, restore_best_weights=True)"
      ]
    },
    {
      "cell_type": "markdown",
      "metadata": {
        "id": "9oYVGuIYXjFh"
      },
      "source": [
        "Nos conectamos al drive:"
      ]
    },
    {
      "cell_type": "code",
      "execution_count": 5,
      "metadata": {
        "colab": {
          "base_uri": "https://localhost:8080/"
        },
        "id": "2M2A0Nv4WlFv",
        "outputId": "70a7c6f9-e78c-4c8e-d117-713e33dc0ea0"
      },
      "outputs": [
        {
          "name": "stdout",
          "output_type": "stream",
          "text": [
            "Mounted at /content/drive\n"
          ]
        }
      ],
      "source": [
        "from google.colab import drive\n",
        "drive.mount('/content/drive')"
      ]
    },
    {
      "cell_type": "code",
      "execution_count": 6,
      "metadata": {
        "id": "dHG0rtlsWTyW"
      },
      "outputs": [],
      "source": [
        "path = '/content/drive/MyDrive/INF395/T2/'"
      ]
    },
    {
      "cell_type": "markdown",
      "metadata": {
        "id": "bbKmwOCq_JpD"
      },
      "source": [
        "## Preprocesar imágenes"
      ]
    },
    {
      "cell_type": "code",
      "execution_count": 7,
      "metadata": {
        "id": "zt_ZZPNcZL38"
      },
      "outputs": [],
      "source": [
        "!unzip '{path}inf-395-tarea-2.zip'  > /dev/null"
      ]
    },
    {
      "cell_type": "code",
      "execution_count": 8,
      "metadata": {
        "id": "1O7Z94t3bYFZ"
      },
      "outputs": [],
      "source": [
        "main_path = '/content/'\n",
        "\n",
        "df_train = pd.read_csv(main_path+'train.csv')"
      ]
    },
    {
      "cell_type": "markdown",
      "metadata": {
        "id": "htXL2965XsJ0"
      },
      "source": [
        "Definimos el tamaño que tendran las imágenes."
      ]
    },
    {
      "cell_type": "code",
      "execution_count": 9,
      "metadata": {
        "id": "nSTfTrD3fegL"
      },
      "outputs": [],
      "source": [
        "image_size = 225"
      ]
    },
    {
      "cell_type": "code",
      "execution_count": 10,
      "metadata": {
        "colab": {
          "base_uri": "https://localhost:8080/"
        },
        "id": "34dnaUgVWTyb",
        "outputId": "ee0423f4-6bc9-47c1-952c-38cb5abb6f0d"
      },
      "outputs": [
        {
          "name": "stdout",
          "output_type": "stream",
          "text": [
            "CPU times: user 5min 26s, sys: 14.5 s, total: 5min 40s\n",
            "Wall time: 5min 39s\n"
          ]
        }
      ],
      "source": [
        "%%time\n",
        "X = preprocess_train_test_set(main_path, df_train['path'], image_size)"
      ]
    },
    {
      "cell_type": "markdown",
      "metadata": {
        "id": "x76zef63sYze"
      },
      "source": [
        "# NN para Superclase"
      ]
    },
    {
      "cell_type": "code",
      "execution_count": 11,
      "metadata": {
        "colab": {
          "base_uri": "https://localhost:8080/"
        },
        "id": "sxehoVePsxfI",
        "outputId": "ae6ab268-10cb-45bc-b73d-038712262370"
      },
      "outputs": [
        {
          "data": {
            "text/plain": [
              "food_category\n",
              "2                56250\n",
              "1                15750\n",
              "0                 3750\n",
              "dtype: int64"
            ]
          },
          "execution_count": 11,
          "metadata": {},
          "output_type": "execute_result"
        }
      ],
      "source": [
        "df_train = pd.read_csv(path+'train.csv')\n",
        "df_train[['food_category']].value_counts()"
      ]
    },
    {
      "cell_type": "code",
      "execution_count": 12,
      "metadata": {
        "id": "GiRnJc7BRHfV"
      },
      "outputs": [],
      "source": [
        "index_0 = df_train[df_train['food_category'] == 0].sample(3750).index\n",
        "index_1 = df_train[df_train['food_category'] == 1].sample(3750).index\n",
        "index_2 = df_train[df_train['food_category'] == 2].sample(3750).index\n",
        "\n",
        "X_balanced  = np.vstack([X[index_0], X[index_1], X[index_2]])\n",
        "df_train_balanced = pd.concat([df_train.iloc[index_0],\n",
        "                               df_train.iloc[index_1],\n",
        "                               df_train.iloc[index_2]\n",
        "                               ])\n",
        "y = df_train_balanced['food_category']"
      ]
    },
    {
      "cell_type": "code",
      "execution_count": 13,
      "metadata": {
        "colab": {
          "base_uri": "https://localhost:8080/"
        },
        "id": "36shj0CNTpNl",
        "outputId": "cafb7923-3ac5-4d30-c011-7bbf571868ae"
      },
      "outputs": [
        {
          "data": {
            "text/plain": [
              "0    3750\n",
              "1    3750\n",
              "2    3750\n",
              "Name: food_category, dtype: int64"
            ]
          },
          "execution_count": 13,
          "metadata": {},
          "output_type": "execute_result"
        }
      ],
      "source": [
        "y.value_counts()"
      ]
    },
    {
      "cell_type": "code",
      "execution_count": 14,
      "metadata": {
        "id": "heRTwC7C2RIm"
      },
      "outputs": [],
      "source": [
        "X_train, X_val, y_train, y_val = train_test_split(X_balanced, y, test_size=0.1, random_state=42, stratify=y)"
      ]
    },
    {
      "cell_type": "code",
      "execution_count": 15,
      "metadata": {
        "colab": {
          "base_uri": "https://localhost:8080/"
        },
        "id": "0rWLuUZ9o4L6",
        "outputId": "215f6b54-f490-4cb0-c9bc-74cf5199ddb6"
      },
      "outputs": [
        {
          "data": {
            "text/plain": [
              "2    375\n",
              "0    375\n",
              "1    375\n",
              "Name: food_category, dtype: int64"
            ]
          },
          "execution_count": 15,
          "metadata": {},
          "output_type": "execute_result"
        }
      ],
      "source": [
        "y_val.value_counts()"
      ]
    },
    {
      "cell_type": "markdown",
      "metadata": {
        "id": "MNH0UYhHdNrD"
      },
      "source": [
        "## Entrenamiento de la NN para superclases"
      ]
    },
    {
      "cell_type": "code",
      "execution_count": 16,
      "metadata": {
        "colab": {
          "base_uri": "https://localhost:8080/"
        },
        "id": "ci6Wj9_PWTyk",
        "outputId": "a61dcbfc-3686-42dd-a95e-ec93969e0fad"
      },
      "outputs": [
        {
          "name": "stdout",
          "output_type": "stream",
          "text": [
            "Downloading data from https://storage.googleapis.com/tensorflow/keras-applications/resnet/resnet50_weights_tf_dim_ordering_tf_kernels_notop.h5\n",
            "94765736/94765736 [==============================] - 4s 0us/step\n",
            "Model: \"sequential\"\n",
            "_________________________________________________________________\n",
            " Layer (type)                Output Shape              Param #   \n",
            "=================================================================\n",
            " resnet50 (Functional)       (None, 8, 8, 2048)        23587712  \n",
            "                                                                 \n",
            " global_average_pooling2d (  (None, 2048)              0         \n",
            " GlobalAveragePooling2D)                                         \n",
            "                                                                 \n",
            " reshape (Reshape)           (None, 1, 2048)           0         \n",
            "                                                                 \n",
            " lstm (LSTM)                 (None, 256)               2360320   \n",
            "                                                                 \n",
            " flatten (Flatten)           (None, 256)               0         \n",
            "                                                                 \n",
            " dense (Dense)               (None, 128)               32896     \n",
            "                                                                 \n",
            " dropout (Dropout)           (None, 128)               0         \n",
            "                                                                 \n",
            " dense_1 (Dense)             (None, 3)                 387       \n",
            "                                                                 \n",
            "=================================================================\n",
            "Total params: 25981315 (99.11 MB)\n",
            "Trainable params: 2393603 (9.13 MB)\n",
            "Non-trainable params: 23587712 (89.98 MB)\n",
            "_________________________________________________________________\n"
          ]
        }
      ],
      "source": [
        "model_sup = create_model(image_size, 3)\n",
        "model_sup.summary()"
      ]
    },
    {
      "cell_type": "code",
      "execution_count": 17,
      "metadata": {
        "id": "nMKf1Ofb8DFb"
      },
      "outputs": [],
      "source": [
        "y_train = tf.one_hot(y_train, depth=3)\n",
        "y_val = tf.one_hot(y_val, depth=3)"
      ]
    },
    {
      "cell_type": "code",
      "execution_count": 18,
      "metadata": {
        "colab": {
          "base_uri": "https://localhost:8080/"
        },
        "id": "IUDWfCo8zFTq",
        "outputId": "ad61dec8-fd28-4134-aec2-7bbf7858b9ad"
      },
      "outputs": [
        {
          "name": "stdout",
          "output_type": "stream",
          "text": [
            "Epoch 1/200\n",
            "80/80 [==============================] - 57s 501ms/step - loss: 0.6846 - macro_f1: 0.6943 - val_loss: 0.6089 - val_macro_f1: 0.7405\n",
            "Epoch 2/200\n",
            "80/80 [==============================] - 37s 463ms/step - loss: 0.5379 - macro_f1: 0.7794 - val_loss: 0.5172 - val_macro_f1: 0.7840\n",
            "Epoch 3/200\n",
            "80/80 [==============================] - 38s 471ms/step - loss: 0.4847 - macro_f1: 0.7951 - val_loss: 0.4963 - val_macro_f1: 0.8044\n",
            "Epoch 4/200\n",
            "80/80 [==============================] - 37s 463ms/step - loss: 0.4429 - macro_f1: 0.8194 - val_loss: 0.5126 - val_macro_f1: 0.7940\n",
            "Epoch 5/200\n",
            "80/80 [==============================] - 38s 470ms/step - loss: 0.4057 - macro_f1: 0.8321 - val_loss: 0.5102 - val_macro_f1: 0.7923\n",
            "Epoch 6/200\n",
            "80/80 [==============================] - 37s 469ms/step - loss: 0.3715 - macro_f1: 0.8493 - val_loss: 0.4694 - val_macro_f1: 0.8153\n",
            "Epoch 7/200\n",
            "80/80 [==============================] - 37s 468ms/step - loss: 0.3445 - macro_f1: 0.8621 - val_loss: 0.5548 - val_macro_f1: 0.7880\n",
            "Epoch 8/200\n",
            "80/80 [==============================] - 37s 467ms/step - loss: 0.3031 - macro_f1: 0.8794 - val_loss: 0.5806 - val_macro_f1: 0.7914\n",
            "Epoch 9/200\n",
            "80/80 [==============================] - 37s 467ms/step - loss: 0.2628 - macro_f1: 0.8980 - val_loss: 0.5763 - val_macro_f1: 0.7947\n",
            "Epoch 10/200\n",
            "80/80 [==============================] - 37s 467ms/step - loss: 0.2075 - macro_f1: 0.9209 - val_loss: 0.5709 - val_macro_f1: 0.7904\n",
            "Epoch 11/200\n",
            "80/80 [==============================] - 37s 469ms/step - loss: 0.1968 - macro_f1: 0.9257 - val_loss: 0.5381 - val_macro_f1: 0.8172\n",
            "Epoch 12/200\n",
            "80/80 [==============================] - 37s 468ms/step - loss: 0.1574 - macro_f1: 0.9422 - val_loss: 0.6280 - val_macro_f1: 0.8036\n",
            "Epoch 13/200\n",
            "80/80 [==============================] - 37s 467ms/step - loss: 0.1184 - macro_f1: 0.9565 - val_loss: 0.8713 - val_macro_f1: 0.7397\n",
            "Epoch 14/200\n",
            "80/80 [==============================] - 37s 467ms/step - loss: 0.2150 - macro_f1: 0.9169 - val_loss: 0.6422 - val_macro_f1: 0.7958\n",
            "Epoch 15/200\n",
            "80/80 [==============================] - 37s 467ms/step - loss: 0.1206 - macro_f1: 0.9554 - val_loss: 0.6812 - val_macro_f1: 0.8018\n",
            "Epoch 16/200\n",
            "80/80 [==============================] - 37s 467ms/step - loss: 0.0848 - macro_f1: 0.9702 - val_loss: 0.7418 - val_macro_f1: 0.8036\n",
            "Epoch 17/200\n",
            "80/80 [==============================] - 37s 467ms/step - loss: 0.0512 - macro_f1: 0.9853 - val_loss: 0.7099 - val_macro_f1: 0.8082\n",
            "Epoch 18/200\n",
            "80/80 [==============================] - 37s 467ms/step - loss: 0.0355 - macro_f1: 0.9915 - val_loss: 0.8136 - val_macro_f1: 0.8141\n",
            "Epoch 19/200\n",
            "80/80 [==============================] - 37s 468ms/step - loss: 0.0516 - macro_f1: 0.9841 - val_loss: 0.8118 - val_macro_f1: 0.8054\n",
            "Epoch 20/200\n",
            "80/80 [==============================] - 37s 467ms/step - loss: 0.0187 - macro_f1: 0.9953 - val_loss: 0.8654 - val_macro_f1: 0.8049\n",
            "Epoch 21/200\n",
            "80/80 [==============================] - 38s 470ms/step - loss: 0.0911 - macro_f1: 0.9667 - val_loss: 0.7531 - val_macro_f1: 0.8083\n"
          ]
        }
      ],
      "source": [
        "history = model_sup.fit(X_train, y_train,\n",
        "                    batch_size = 128,\n",
        "                    epochs = 200,\n",
        "                    callbacks=[E_S],\n",
        "                    verbose = 1,\n",
        "                    validation_data = (X_val, y_val)\n",
        "                    )"
      ]
    },
    {
      "cell_type": "markdown",
      "metadata": {
        "id": "HUlNBgnpb-3E"
      },
      "source": [
        "Guardamos la NN:"
      ]
    },
    {
      "cell_type": "code",
      "execution_count": 19,
      "metadata": {
        "id": "aaV7x7kLcB9_"
      },
      "outputs": [],
      "source": [
        "model_sup.save(path+'NNs/NN_superclases.keras')"
      ]
    }
  ],
  "metadata": {
    "accelerator": "GPU",
    "colab": {
      "collapsed_sections": [
        "x76zef63sYze"
      ],
      "gpuType": "T4",
      "include_colab_link": true,
      "machine_shape": "hm",
      "provenance": []
    },
    "kernelspec": {
      "display_name": "Python 3",
      "name": "python3"
    },
    "language_info": {
      "codemirror_mode": {
        "name": "ipython",
        "version": 3
      },
      "file_extension": ".py",
      "mimetype": "text/x-python",
      "name": "python",
      "nbconvert_exporter": "python",
      "pygments_lexer": "ipython3",
      "version": "3.11.4"
    }
  },
  "nbformat": 4,
  "nbformat_minor": 0
}
